{
 "cells": [
  {
   "cell_type": "markdown",
   "metadata": {},
   "source": [
    "## This example applies DeepPhasePick on seismic data stored in a archive directory structured as: archive/YY/NET/STA/CH. Here YY is year, NET is the network code, STA is the station code and CH is the channel code (e.g., HH) of the seismic streams."
   ]
  },
  {
   "cell_type": "code",
   "execution_count": 1,
   "metadata": {},
   "outputs": [],
   "source": [
    "import os\n",
    "os.chdir('../')\n",
    "import config, data, model, util                                                \n",
    "from obspy.clients.fdsn import Client                                           \n",
    "import obspy.core as oc "
   ]
  },
  {
   "cell_type": "markdown",
   "metadata": {},
   "source": [
    "## 1. Configure DPP"
   ]
  },
  {
   "cell_type": "code",
   "execution_count": 3,
   "metadata": {},
   "outputs": [
    {
     "name": "stdout",
     "output_type": "stream",
     "text": [
      "__pycache__/ removed\n",
      "~/.nv/ not found, continuing...\n"
     ]
    }
   ],
   "source": [
    "# config\n",
    "util.init_session()\n",
    "dpp_config = config.Config()\n",
    "dpp_config.set_trigger(pthres_p=[0.9, 0.001], pthres_s=[0.9, 0.001])\n",
    "# dpp_config.set_picking(mcd_iter=10, run_mcd=True)\n",
    "dpp_config.set_picking(run_mcd=False)\n",
    "#\n",
    "dpp_config.set_data(\n",
    "    stas=['PB01', 'PB02'],\n",
    "    net='CX',\n",
    "    ch='HH',\n",
    "    archive='sample_data/archive',\n",
    "    opath='out_archive'\n",
    ")\n",
    "dpp_config.set_time(\n",
    "    dt_iter=3600.,\n",
    "    #\n",
    "    tstart = \"2014-05-01T00:00:00\",\n",
    "    tend = \"2014-05-01T12:00:00\",    \n",
    ")"
   ]
  },
  {
   "cell_type": "markdown",
   "metadata": {},
   "source": [
    "## 2. Read seismic data into DPP"
   ]
  },
  {
   "cell_type": "code",
   "execution_count": 4,
   "metadata": {
    "scrolled": true
   },
   "outputs": [
    {
     "name": "stdout",
     "output_type": "stream",
     "text": [
      "#\n",
      "time windows (12) for iteration over continuous waveforms:\n",
      "[UTCDateTime(2014, 5, 1, 0, 0), UTCDateTime(2014, 5, 1, 1, 0)]\n",
      "[UTCDateTime(2014, 5, 1, 1, 0), UTCDateTime(2014, 5, 1, 2, 0)]\n",
      "[UTCDateTime(2014, 5, 1, 2, 0), UTCDateTime(2014, 5, 1, 3, 0)]\n",
      "[UTCDateTime(2014, 5, 1, 3, 0), UTCDateTime(2014, 5, 1, 4, 0)]\n",
      "[UTCDateTime(2014, 5, 1, 4, 0), UTCDateTime(2014, 5, 1, 5, 0)]\n",
      "[UTCDateTime(2014, 5, 1, 5, 0), UTCDateTime(2014, 5, 1, 6, 0)]\n",
      "[UTCDateTime(2014, 5, 1, 6, 0), UTCDateTime(2014, 5, 1, 7, 0)]\n",
      "[UTCDateTime(2014, 5, 1, 7, 0), UTCDateTime(2014, 5, 1, 8, 0)]\n",
      "[UTCDateTime(2014, 5, 1, 8, 0), UTCDateTime(2014, 5, 1, 9, 0)]\n",
      "[UTCDateTime(2014, 5, 1, 9, 0), UTCDateTime(2014, 5, 1, 10, 0)]\n",
      "[UTCDateTime(2014, 5, 1, 10, 0), UTCDateTime(2014, 5, 1, 11, 0)]\n",
      "[UTCDateTime(2014, 5, 1, 11, 0), UTCDateTime(2014, 5, 1, 12, 0)]\n",
      "\n",
      "\n",
      "retrieving seismic waveforms for stations:\n",
      "['PB01', 'PB02']\n",
      "seismic data found for: net = CX, sta = PB01, st_count = 0, st_arg = 0\n",
      "['sample_data/archive/2014/CX/PB01/HHE.D/CX.PB01..HHE.D.2014.121', 'sample_data/archive/2014/CX/PB01/HHZ.D/CX.PB01..HHZ.D.2014.121', 'sample_data/archive/2014/CX/PB01/HHN.D/CX.PB01..HHN.D.2014.121']\n",
      "sample_data/archive/2014/CX/PB01/HHE.D/CX.PB01..HHE.D.2014.121\n",
      "sample_data/archive/2014/CX/PB01/HHZ.D/CX.PB01..HHZ.D.2014.121\n",
      "sample_data/archive/2014/CX/PB01/HHN.D/CX.PB01..HHN.D.2014.121\n",
      "seismic data found for: net = CX, sta = PB02, st_count = 3, st_arg = 0\n",
      "['sample_data/archive/2014/CX/PB02/HHE.D/CX.PB02..HHE.D.2014.121', 'sample_data/archive/2014/CX/PB02/HHZ.D/CX.PB02..HHZ.D.2014.121', 'sample_data/archive/2014/CX/PB02/HHN.D/CX.PB02..HHN.D.2014.121']\n",
      "sample_data/archive/2014/CX/PB02/HHE.D/CX.PB02..HHE.D.2014.121\n",
      "sample_data/archive/2014/CX/PB02/HHZ.D/CX.PB02..HHZ.D.2014.121\n",
      "sample_data/archive/2014/CX/PB02/HHN.D/CX.PB02..HHN.D.2014.121\n",
      "6 Trace(s) in Stream:\n",
      "CX.PB01..HHE | 2014-04-30T23:59:59.998393Z - 2014-05-01T11:59:59.998393Z | 100.0 Hz, 4320001 samples\n",
      "CX.PB01..HHZ | 2014-04-30T23:59:59.998393Z - 2014-05-01T11:59:59.998393Z | 100.0 Hz, 4320001 samples\n",
      "CX.PB01..HHN | 2014-04-30T23:59:59.998391Z - 2014-05-01T11:59:59.998391Z | 100.0 Hz, 4320001 samples\n",
      "CX.PB02..HHE | 2014-04-30T23:59:59.998393Z - 2014-05-01T11:59:59.998393Z | 100.0 Hz, 4320001 samples\n",
      "CX.PB02..HHZ | 2014-04-30T23:59:59.998393Z - 2014-05-01T11:59:59.998393Z | 100.0 Hz, 4320001 samples\n",
      "CX.PB02..HHN | 2014-04-30T23:59:59.998393Z - 2014-05-01T11:59:59.998393Z | 100.0 Hz, 4320001 samples\n",
      "#\n",
      "processing raw stream data...\n",
      "detrend...\n",
      "resampling...\n",
      "merging...\n",
      "slicing...\n",
      "slicing...\n",
      "slicing...\n",
      "slicing...\n",
      "slicing...\n",
      "slicing...\n",
      "slicing...\n",
      "slicing...\n",
      "slicing...\n",
      "slicing...\n",
      "slicing...\n",
      "slicing...\n",
      "1 {'st': {'PB01': <obspy.core.stream.Stream object at 0x7fa2b47ed1d0>, 'PB02': <obspy.core.stream.Stream object at 0x7fa2c6a83128>}, 'twin': [UTCDateTime(2014, 5, 1, 0, 0), UTCDateTime(2014, 5, 1, 1, 0)], 'opath': 'out_archive/20140501T000000_20140501T010000'}\n",
      "2 {'st': {'PB01': <obspy.core.stream.Stream object at 0x7fa2b47436d8>, 'PB02': <obspy.core.stream.Stream object at 0x7fa2b47ed320>}, 'twin': [UTCDateTime(2014, 5, 1, 1, 0), UTCDateTime(2014, 5, 1, 2, 0)], 'opath': 'out_archive/20140501T010000_20140501T020000'}\n",
      "3 {'st': {'PB01': <obspy.core.stream.Stream object at 0x7fa2b47433c8>, 'PB02': <obspy.core.stream.Stream object at 0x7fa2b4743b00>}, 'twin': [UTCDateTime(2014, 5, 1, 2, 0), UTCDateTime(2014, 5, 1, 3, 0)], 'opath': 'out_archive/20140501T020000_20140501T030000'}\n",
      "4 {'st': {'PB01': <obspy.core.stream.Stream object at 0x7fa2b47472e8>, 'PB02': <obspy.core.stream.Stream object at 0x7fa2b4743208>}, 'twin': [UTCDateTime(2014, 5, 1, 3, 0), UTCDateTime(2014, 5, 1, 4, 0)], 'opath': 'out_archive/20140501T030000_20140501T040000'}\n",
      "5 {'st': {'PB01': <obspy.core.stream.Stream object at 0x7fa2b4747d68>, 'PB02': <obspy.core.stream.Stream object at 0x7fa2b4747dd8>}, 'twin': [UTCDateTime(2014, 5, 1, 4, 0), UTCDateTime(2014, 5, 1, 5, 0)], 'opath': 'out_archive/20140501T040000_20140501T050000'}\n",
      "6 {'st': {'PB01': <obspy.core.stream.Stream object at 0x7fa2b47554a8>, 'PB02': <obspy.core.stream.Stream object at 0x7fa2b4747198>}, 'twin': [UTCDateTime(2014, 5, 1, 5, 0), UTCDateTime(2014, 5, 1, 6, 0)], 'opath': 'out_archive/20140501T050000_20140501T060000'}\n",
      "7 {'st': {'PB01': <obspy.core.stream.Stream object at 0x7fa2b4755ba8>, 'PB02': <obspy.core.stream.Stream object at 0x7fa2b4755c18>}, 'twin': [UTCDateTime(2014, 5, 1, 6, 0), UTCDateTime(2014, 5, 1, 7, 0)], 'opath': 'out_archive/20140501T060000_20140501T070000'}\n",
      "8 {'st': {'PB01': <obspy.core.stream.Stream object at 0x7fa2b475b2e8>, 'PB02': <obspy.core.stream.Stream object at 0x7fa2b4755518>}, 'twin': [UTCDateTime(2014, 5, 1, 7, 0), UTCDateTime(2014, 5, 1, 8, 0)], 'opath': 'out_archive/20140501T070000_20140501T080000'}\n",
      "9 {'st': {'PB01': <obspy.core.stream.Stream object at 0x7fa2b475b9e8>, 'PB02': <obspy.core.stream.Stream object at 0x7fa2b475ba58>}, 'twin': [UTCDateTime(2014, 5, 1, 8, 0), UTCDateTime(2014, 5, 1, 9, 0)], 'opath': 'out_archive/20140501T080000_20140501T090000'}\n",
      "10 {'st': {'PB01': <obspy.core.stream.Stream object at 0x7fa2b475f128>, 'PB02': <obspy.core.stream.Stream object at 0x7fa2b475b358>}, 'twin': [UTCDateTime(2014, 5, 1, 9, 0), UTCDateTime(2014, 5, 1, 10, 0)], 'opath': 'out_archive/20140501T090000_20140501T100000'}\n",
      "11 {'st': {'PB01': <obspy.core.stream.Stream object at 0x7fa2b475f828>, 'PB02': <obspy.core.stream.Stream object at 0x7fa2b475f898>}, 'twin': [UTCDateTime(2014, 5, 1, 10, 0), UTCDateTime(2014, 5, 1, 11, 0)], 'opath': 'out_archive/20140501T100000_20140501T110000'}\n",
      "12 {'st': {'PB01': <obspy.core.stream.Stream object at 0x7fa2b475ff28>, 'PB02': <obspy.core.stream.Stream object at 0x7fa2b475fdd8>}, 'twin': [UTCDateTime(2014, 5, 1, 11, 0), UTCDateTime(2014, 5, 1, 12, 0)], 'opath': 'out_archive/20140501T110000_20140501T120000'}\n"
     ]
    }
   ],
   "source": [
    "# data\n",
    "dpp_data = data.Data()\n",
    "dpp_data.read_from_archive(dpp_config)\n",
    "#\n",
    "for k in dpp_data.data:\n",
    "    print(k, dpp_data.data[k])"
   ]
  },
  {
   "cell_type": "markdown",
   "metadata": {},
   "source": [
    "## 3. Run phase detection and picking"
   ]
  },
  {
   "cell_type": "code",
   "execution_count": 5,
   "metadata": {
    "scrolled": true
   },
   "outputs": [],
   "source": [
    "# model\n",
    "dpp_model = model.Model(verbose=False)\n",
    "#\n",
    "# print(dpp_model.model_detection['best_model'].summary())\n",
    "# print(dpp_model.model_picking_P['best_model'].summary())\n",
    "# print(dpp_model.model_picking_S['best_model'].summary())"
   ]
  },
  {
   "cell_type": "code",
   "execution_count": null,
   "metadata": {
    "scrolled": false
   },
   "outputs": [],
   "source": [
    "# run phase detection\n",
    "dpp_model.run_detection(dpp_config, dpp_data, save_dets=False, save_data=False)"
   ]
  },
  {
   "cell_type": "code",
   "execution_count": 7,
   "metadata": {
    "scrolled": true
   },
   "outputs": [
    {
     "name": "stdout",
     "output_type": "stream",
     "text": [
      "#\n",
      "1, 2014-05-01T00:00:00.000000Z, 2014-05-01T01:00:00.000000Z, PB01\n",
      "triggered picks (P, S): 23, 12\n",
      "selected picks (P, S): 21, 9\n",
      "#\n",
      "1, 2014-05-01T00:00:00.000000Z, 2014-05-01T01:00:00.000000Z, PB02\n",
      "triggered picks (P, S): 12, 11\n",
      "selected picks (P, S): 8, 5\n",
      "#\n",
      "2, 2014-05-01T01:00:00.000000Z, 2014-05-01T02:00:00.000000Z, PB01\n",
      "triggered picks (P, S): 25, 19\n",
      "selected picks (P, S): 21, 12\n",
      "#\n",
      "2, 2014-05-01T01:00:00.000000Z, 2014-05-01T02:00:00.000000Z, PB02\n",
      "triggered picks (P, S): 21, 21\n",
      "selected picks (P, S): 18, 8\n",
      "#\n",
      "3, 2014-05-01T02:00:00.000000Z, 2014-05-01T03:00:00.000000Z, PB01\n",
      "triggered picks (P, S): 18, 6\n",
      "selected picks (P, S): 16, 4\n",
      "#\n",
      "3, 2014-05-01T02:00:00.000000Z, 2014-05-01T03:00:00.000000Z, PB02\n",
      "triggered picks (P, S): 13, 6\n",
      "selected picks (P, S): 10, 2\n",
      "#\n",
      "4, 2014-05-01T03:00:00.000000Z, 2014-05-01T04:00:00.000000Z, PB01\n",
      "triggered picks (P, S): 14, 4\n",
      "selected picks (P, S): 13, 3\n",
      "#\n",
      "4, 2014-05-01T03:00:00.000000Z, 2014-05-01T04:00:00.000000Z, PB02\n",
      "triggered picks (P, S): 7, 3\n",
      "selected picks (P, S): 7, 1\n",
      "#\n",
      "5, 2014-05-01T04:00:00.000000Z, 2014-05-01T05:00:00.000000Z, PB01\n",
      "triggered picks (P, S): 21, 14\n",
      "selected picks (P, S): 20, 9\n",
      "#\n",
      "5, 2014-05-01T04:00:00.000000Z, 2014-05-01T05:00:00.000000Z, PB02\n",
      "triggered picks (P, S): 19, 10\n",
      "selected picks (P, S): 17, 5\n",
      "#\n",
      "6, 2014-05-01T05:00:00.000000Z, 2014-05-01T06:00:00.000000Z, PB01\n",
      "triggered picks (P, S): 19, 10\n",
      "selected picks (P, S): 18, 4\n",
      "#\n",
      "6, 2014-05-01T05:00:00.000000Z, 2014-05-01T06:00:00.000000Z, PB02\n",
      "triggered picks (P, S): 8, 7\n",
      "selected picks (P, S): 7, 3\n",
      "#\n",
      "7, 2014-05-01T06:00:00.000000Z, 2014-05-01T07:00:00.000000Z, PB01\n",
      "triggered picks (P, S): 21, 10\n",
      "selected picks (P, S): 18, 5\n",
      "#\n",
      "7, 2014-05-01T06:00:00.000000Z, 2014-05-01T07:00:00.000000Z, PB02\n",
      "triggered picks (P, S): 8, 5\n",
      "selected picks (P, S): 6, 3\n",
      "#\n",
      "8, 2014-05-01T07:00:00.000000Z, 2014-05-01T08:00:00.000000Z, PB01\n",
      "triggered picks (P, S): 18, 13\n",
      "selected picks (P, S): 16, 8\n",
      "#\n",
      "8, 2014-05-01T07:00:00.000000Z, 2014-05-01T08:00:00.000000Z, PB02\n",
      "triggered picks (P, S): 14, 8\n",
      "selected picks (P, S): 10, 3\n",
      "#\n",
      "9, 2014-05-01T08:00:00.000000Z, 2014-05-01T09:00:00.000000Z, PB01\n",
      "triggered picks (P, S): 9, 6\n",
      "selected picks (P, S): 9, 1\n",
      "#\n",
      "9, 2014-05-01T08:00:00.000000Z, 2014-05-01T09:00:00.000000Z, PB02\n",
      "triggered picks (P, S): 8, 4\n",
      "selected picks (P, S): 8, 1\n",
      "#\n",
      "10, 2014-05-01T09:00:00.000000Z, 2014-05-01T10:00:00.000000Z, PB01\n",
      "triggered picks (P, S): 20, 10\n",
      "selected picks (P, S): 19, 5\n",
      "#\n",
      "10, 2014-05-01T09:00:00.000000Z, 2014-05-01T10:00:00.000000Z, PB02\n",
      "triggered picks (P, S): 14, 9\n",
      "selected picks (P, S): 12, 4\n",
      "#\n",
      "11, 2014-05-01T10:00:00.000000Z, 2014-05-01T11:00:00.000000Z, PB01\n",
      "triggered picks (P, S): 11, 5\n",
      "selected picks (P, S): 10, 2\n",
      "#\n",
      "11, 2014-05-01T10:00:00.000000Z, 2014-05-01T11:00:00.000000Z, PB02\n",
      "triggered picks (P, S): 7, 5\n",
      "selected picks (P, S): 5, 1\n",
      "#\n",
      "12, 2014-05-01T11:00:00.000000Z, 2014-05-01T12:00:00.000000Z, PB01\n",
      "triggered picks (P, S): 18, 11\n",
      "selected picks (P, S): 14, 6\n",
      "#\n",
      "12, 2014-05-01T11:00:00.000000Z, 2014-05-01T12:00:00.000000Z, PB02\n",
      "triggered picks (P, S): 17, 11\n",
      "selected picks (P, S): 12, 5\n"
     ]
    }
   ],
   "source": [
    "# run phase picking\n",
    "dpp_model.run_picking(dpp_config, dpp_data, save_plots=False, save_stats=True, save_picks=False)"
   ]
  },
  {
   "cell_type": "code",
   "execution_count": 8,
   "metadata": {},
   "outputs": [
    {
     "name": "stdout",
     "output_type": "stream",
     "text": [
      "creating plots...\n",
      "1 PB01 Z 2014-04-30T23:59:59.998393Z 2014-05-01T00:59:59.998393Z\n",
      "1 PB01 E 2014-04-30T23:59:59.998393Z 2014-05-01T00:59:59.998393Z\n",
      "1 PB02 Z 2014-04-30T23:59:59.998393Z 2014-05-01T00:59:59.998393Z\n",
      "1 PB02 E 2014-04-30T23:59:59.998393Z 2014-05-01T00:59:59.998393Z\n",
      "2 PB01 Z 2014-05-01T00:59:59.998393Z 2014-05-01T01:59:59.998393Z\n",
      "2 PB01 E 2014-05-01T00:59:59.998393Z 2014-05-01T01:59:59.998393Z\n",
      "2 PB02 Z 2014-05-01T00:59:59.998393Z 2014-05-01T01:59:59.998393Z\n",
      "2 PB02 E 2014-05-01T00:59:59.998393Z 2014-05-01T01:59:59.998393Z\n",
      "3 PB01 Z 2014-05-01T01:59:59.998393Z 2014-05-01T02:59:59.998393Z\n",
      "3 PB01 E 2014-05-01T01:59:59.998393Z 2014-05-01T02:59:59.998393Z\n",
      "3 PB02 Z 2014-05-01T01:59:59.998393Z 2014-05-01T02:59:59.998393Z\n",
      "3 PB02 E 2014-05-01T01:59:59.998393Z 2014-05-01T02:59:59.998393Z\n",
      "4 PB01 Z 2014-05-01T02:59:59.998393Z 2014-05-01T03:59:59.998393Z\n",
      "4 PB01 E 2014-05-01T02:59:59.998393Z 2014-05-01T03:59:59.998393Z\n",
      "4 PB02 Z 2014-05-01T02:59:59.998393Z 2014-05-01T03:59:59.998393Z\n",
      "4 PB02 E 2014-05-01T02:59:59.998393Z 2014-05-01T03:59:59.998393Z\n",
      "5 PB01 Z 2014-05-01T03:59:59.998393Z 2014-05-01T04:59:59.998393Z\n",
      "5 PB01 E 2014-05-01T03:59:59.998393Z 2014-05-01T04:59:59.998393Z\n",
      "5 PB02 Z 2014-05-01T03:59:59.998393Z 2014-05-01T04:59:59.998393Z\n",
      "5 PB02 E 2014-05-01T03:59:59.998393Z 2014-05-01T04:59:59.998393Z\n",
      "6 PB01 Z 2014-05-01T04:59:59.998393Z 2014-05-01T05:59:59.998393Z\n",
      "6 PB01 E 2014-05-01T04:59:59.998393Z 2014-05-01T05:59:59.998393Z\n",
      "6 PB02 Z 2014-05-01T04:59:59.998393Z 2014-05-01T05:59:59.998393Z\n",
      "6 PB02 E 2014-05-01T04:59:59.998393Z 2014-05-01T05:59:59.998393Z\n",
      "7 PB01 Z 2014-05-01T05:59:59.998393Z 2014-05-01T06:59:59.998393Z\n",
      "7 PB01 E 2014-05-01T05:59:59.998393Z 2014-05-01T06:59:59.998393Z\n",
      "7 PB02 Z 2014-05-01T05:59:59.998393Z 2014-05-01T06:59:59.998393Z\n",
      "7 PB02 E 2014-05-01T05:59:59.998393Z 2014-05-01T06:59:59.998393Z\n",
      "8 PB01 Z 2014-05-01T06:59:59.998393Z 2014-05-01T07:59:59.998393Z\n",
      "8 PB01 E 2014-05-01T06:59:59.998393Z 2014-05-01T07:59:59.998393Z\n",
      "8 PB02 Z 2014-05-01T06:59:59.998393Z 2014-05-01T07:59:59.998393Z\n",
      "8 PB02 E 2014-05-01T06:59:59.998393Z 2014-05-01T07:59:59.998393Z\n",
      "9 PB01 Z 2014-05-01T07:59:59.998393Z 2014-05-01T08:59:59.998393Z\n",
      "9 PB01 E 2014-05-01T07:59:59.998393Z 2014-05-01T08:59:59.998393Z\n",
      "9 PB02 Z 2014-05-01T07:59:59.998393Z 2014-05-01T08:59:59.998393Z\n",
      "9 PB02 E 2014-05-01T07:59:59.998393Z 2014-05-01T08:59:59.998393Z\n",
      "10 PB01 Z 2014-05-01T08:59:59.998393Z 2014-05-01T09:59:59.998393Z\n",
      "10 PB01 E 2014-05-01T08:59:59.998393Z 2014-05-01T09:59:59.998393Z\n",
      "10 PB02 Z 2014-05-01T08:59:59.998393Z 2014-05-01T09:59:59.998393Z\n",
      "10 PB02 E 2014-05-01T08:59:59.998393Z 2014-05-01T09:59:59.998393Z\n",
      "11 PB01 Z 2014-05-01T09:59:59.998393Z 2014-05-01T10:59:59.998393Z\n",
      "11 PB01 E 2014-05-01T09:59:59.998393Z 2014-05-01T10:59:59.998393Z\n",
      "11 PB02 Z 2014-05-01T09:59:59.998393Z 2014-05-01T10:59:59.998393Z\n",
      "11 PB02 E 2014-05-01T09:59:59.998393Z 2014-05-01T10:59:59.998393Z\n",
      "12 PB01 Z 2014-05-01T10:59:59.998393Z 2014-05-01T11:59:59.998393Z\n",
      "12 PB01 E 2014-05-01T10:59:59.998393Z 2014-05-01T11:59:59.998393Z\n",
      "12 PB02 Z 2014-05-01T10:59:59.998393Z 2014-05-01T11:59:59.998393Z\n",
      "12 PB02 E 2014-05-01T10:59:59.998393Z 2014-05-01T11:59:59.998393Z\n"
     ]
    }
   ],
   "source": [
    "# plots\n",
    "util.plot_predicted_phases(dpp_config, dpp_data, dpp_model)\n",
    "# util.plot_predicted_phases(dpp_config, dpp_data, dpp_model, plot_probs=['P','S'], shift_probs=True)"
   ]
  }
 ],
 "metadata": {
  "jupytext": {
   "text_representation": {
    "extension": ".py",
    "format_name": "light",
    "format_version": "1.4",
    "jupytext_version": "1.2.4"
   }
  },
  "kernelspec": {
   "display_name": "Python 3",
   "language": "python",
   "name": "python3"
  },
  "language_info": {
   "codemirror_mode": {
    "name": "ipython",
    "version": 3
   },
   "file_extension": ".py",
   "mimetype": "text/x-python",
   "name": "python",
   "nbconvert_exporter": "python",
   "pygments_lexer": "ipython3",
   "version": "3.6.13"
  }
 },
 "nbformat": 4,
 "nbformat_minor": 2
}
