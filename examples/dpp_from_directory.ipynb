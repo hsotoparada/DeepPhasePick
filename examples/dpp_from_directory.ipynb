{
 "cells": [
  {
   "cell_type": "markdown",
   "metadata": {},
   "source": [
    "## This example applies DeepPhasePick on seismic data stored in an unstructured archive directory."
   ]
  },
  {
   "cell_type": "code",
   "execution_count": 9,
   "metadata": {},
   "outputs": [],
   "source": [
    "import os\n",
    "os.chdir('../')\n",
    "import config, data, model, util                                                "
   ]
  },
  {
   "cell_type": "markdown",
   "metadata": {},
   "source": [
    "## 1. Configure DPP"
   ]
  },
  {
   "cell_type": "code",
   "execution_count": 3,
   "metadata": {
    "scrolled": true
   },
   "outputs": [
    {
     "name": "stdout",
     "output_type": "stream",
     "text": [
      "__pycache__/ removed\n",
      "~/.nv/ not found, continuing...\n"
     ]
    }
   ],
   "source": [
    "# config\n",
    "util.init_session()\n",
    "dpp_config = config.Config()\n",
    "dpp_config.set_trigger(pthres_p=[0.9, 0.001], pthres_s=[0.9, 0.001])\n",
    "dpp_config.set_picking(op_conds=['1','2','3','4'], tp_th_add=1.5, dt_sp_near=1.5, dt_ps_max=25., dt_sdup_max=2., mcd_iter=10, run_mcd=True)\n",
    "# dpp_config.set_picking(op_conds=['1','2','3','4'], tp_th_add=1.5, dt_sp_near=1.5, dt_ps_max=25., dt_sdup_max=2., mcd_iter=10, run_mcd=False)\n",
    "dpp_config.set_data(\n",
    "    stas=['PB01', 'PB02'],\n",
    "    net='CX',\n",
    "    ch='HH',\n",
    "    archive='sample_data/CX_20140301',\n",
    "    opath='out_CX_20140301'\n",
    ")\n",
    "dpp_config.set_time(\n",
    "    dt_iter=3600.,\n",
    "    tstart = \"2014-03-01T02:00:00\",\n",
    "    tend = \"2014-03-01T03:00:00\",        \n",
    ")"
   ]
  },
  {
   "cell_type": "markdown",
   "metadata": {},
   "source": [
    "## 2. Read seismic data into DPP"
   ]
  },
  {
   "cell_type": "code",
   "execution_count": 4,
   "metadata": {
    "scrolled": true
   },
   "outputs": [
    {
     "name": "stdout",
     "output_type": "stream",
     "text": [
      "reading seismic waveform: sample_data/CX_20140301/CX.PB01..HH.mseed\n",
      "reading seismic waveform: sample_data/CX_20140301/CX.PB02..HH.mseed\n",
      "6 Trace(s) in Stream:\n",
      "CX.PB01..HHZ | 2014-03-01T01:59:59.998393Z - 2014-03-01T02:59:59.998393Z | 100.0 Hz, 360001 samples\n",
      "CX.PB01..HHE | 2014-03-01T01:59:59.998393Z - 2014-03-01T02:59:59.998393Z | 100.0 Hz, 360001 samples\n",
      "CX.PB01..HHN | 2014-03-01T01:59:59.998393Z - 2014-03-01T02:59:59.998393Z | 100.0 Hz, 360001 samples\n",
      "CX.PB02..HHZ | 2014-03-01T01:59:59.998391Z - 2014-03-01T02:59:59.998391Z | 100.0 Hz, 360001 samples\n",
      "CX.PB02..HHE | 2014-03-01T01:59:59.998393Z - 2014-03-01T02:59:59.998393Z | 100.0 Hz, 360001 samples\n",
      "CX.PB02..HHN | 2014-03-01T01:59:59.998393Z - 2014-03-01T02:59:59.998393Z | 100.0 Hz, 360001 samples\n",
      "#\n",
      "processing raw stream data...\n",
      "detrend...\n",
      "resampling...\n",
      "merging...\n",
      "#\n",
      "time windows (1) for iteration over continuous waveforms:\n",
      "[UTCDateTime(2014, 3, 1, 2, 0), UTCDateTime(2014, 3, 1, 3, 0)]\n",
      "\n",
      "slicing...\n"
     ]
    }
   ],
   "source": [
    "# data\n",
    "dpp_data = data.Data()\n",
    "dpp_data.read_from_directory(dpp_config)\n",
    "#\n",
    "# for k in dpp_data.data:\n",
    "#     print(k, dpp_data.data[k])"
   ]
  },
  {
   "cell_type": "markdown",
   "metadata": {},
   "source": [
    "## 3. Run phase detection and picking"
   ]
  },
  {
   "cell_type": "code",
   "execution_count": 5,
   "metadata": {
    "scrolled": true
   },
   "outputs": [
    {
     "name": "stdout",
     "output_type": "stream",
     "text": [
      "Model: \"sequential_1\"\n",
      "_________________________________________________________________\n",
      "Layer (type)                 Output Shape              Param #   \n",
      "=================================================================\n",
      "separable_conv1d_1 (Separabl (None, 480, 12)           99        \n",
      "_________________________________________________________________\n",
      "activation_1 (Activation)    (None, 480, 12)           0         \n",
      "_________________________________________________________________\n",
      "batch_normalization_1 (Batch (None, 480, 12)           48        \n",
      "_________________________________________________________________\n",
      "max_pooling1d_1 (MaxPooling1 (None, 240, 12)           0         \n",
      "_________________________________________________________________\n",
      "dropout_1 (Dropout)          (None, 240, 12)           0         \n",
      "_________________________________________________________________\n",
      "separable_conv1d_2 (Separabl (None, 240, 24)           444       \n",
      "_________________________________________________________________\n",
      "activation_2 (Activation)    (None, 240, 24)           0         \n",
      "_________________________________________________________________\n",
      "batch_normalization_2 (Batch (None, 240, 24)           96        \n",
      "_________________________________________________________________\n",
      "max_pooling1d_2 (MaxPooling1 (None, 120, 24)           0         \n",
      "_________________________________________________________________\n",
      "dropout_2 (Dropout)          (None, 120, 24)           0         \n",
      "_________________________________________________________________\n",
      "separable_conv1d_3 (Separabl (None, 120, 48)           1320      \n",
      "_________________________________________________________________\n",
      "activation_3 (Activation)    (None, 120, 48)           0         \n",
      "_________________________________________________________________\n",
      "batch_normalization_3 (Batch (None, 120, 48)           192       \n",
      "_________________________________________________________________\n",
      "max_pooling1d_3 (MaxPooling1 (None, 60, 48)            0         \n",
      "_________________________________________________________________\n",
      "dropout_3 (Dropout)          (None, 60, 48)            0         \n",
      "_________________________________________________________________\n",
      "separable_conv1d_4 (Separabl (None, 60, 96)            5136      \n",
      "_________________________________________________________________\n",
      "activation_4 (Activation)    (None, 60, 96)            0         \n",
      "_________________________________________________________________\n",
      "batch_normalization_4 (Batch (None, 60, 96)            384       \n",
      "_________________________________________________________________\n",
      "max_pooling1d_4 (MaxPooling1 (None, 30, 96)            0         \n",
      "_________________________________________________________________\n",
      "dropout_4 (Dropout)          (None, 30, 96)            0         \n",
      "_________________________________________________________________\n",
      "separable_conv1d_5 (Separabl (None, 30, 192)           20256     \n",
      "_________________________________________________________________\n",
      "activation_5 (Activation)    (None, 30, 192)           0         \n",
      "_________________________________________________________________\n",
      "batch_normalization_5 (Batch (None, 30, 192)           768       \n",
      "_________________________________________________________________\n",
      "max_pooling1d_5 (MaxPooling1 (None, 15, 192)           0         \n",
      "_________________________________________________________________\n",
      "dropout_5 (Dropout)          (None, 15, 192)           0         \n",
      "_________________________________________________________________\n",
      "flatten (Flatten)            (None, 2880)              0         \n",
      "_________________________________________________________________\n",
      "dense_1 (Dense)              (None, 50)                144050    \n",
      "_________________________________________________________________\n",
      "activation_6 (Activation)    (None, 50)                0         \n",
      "_________________________________________________________________\n",
      "batch_normalization_6 (Batch (None, 50)                200       \n",
      "_________________________________________________________________\n",
      "dropout_6 (Dropout)          (None, 50)                0         \n",
      "_________________________________________________________________\n",
      "dense_2 (Dense)              (None, 3)                 153       \n",
      "_________________________________________________________________\n",
      "activation_7 (Activation)    (None, 3)                 0         \n",
      "=================================================================\n",
      "Total params: 173,146\n",
      "Trainable params: 172,302\n",
      "Non-trainable params: 844\n",
      "_________________________________________________________________\n",
      "None\n",
      "Model: \"model\"\n",
      "_________________________________________________________________\n",
      "Layer (type)                 Output Shape              Param #   \n",
      "=================================================================\n",
      "input_1 (InputLayer)         [(None, 480, 1)]          0         \n",
      "_________________________________________________________________\n",
      "bidirectional (Bidirectional (None, 480, 260)          137280    \n",
      "_________________________________________________________________\n",
      "bidirectional_1 (Bidirection (None, 480, 280)          449120    \n",
      "_________________________________________________________________\n",
      "time_distributed (TimeDistri (None, 480, 1)            281       \n",
      "=================================================================\n",
      "Total params: 586,681\n",
      "Trainable params: 586,681\n",
      "Non-trainable params: 0\n",
      "_________________________________________________________________\n",
      "None\n",
      "Model: \"model_1\"\n",
      "_________________________________________________________________\n",
      "Layer (type)                 Output Shape              Param #   \n",
      "=================================================================\n",
      "input_1 (InputLayer)         [(None, 480, 2)]          0         \n",
      "_________________________________________________________________\n",
      "bidirectional_1 (Bidirection (None, 480, 40)           3680      \n",
      "_________________________________________________________________\n",
      "bidirectional_2 (Bidirection (None, 480, 60)           17040     \n",
      "_________________________________________________________________\n",
      "time_distributed_1 (TimeDist (None, 480, 1)            61        \n",
      "=================================================================\n",
      "Total params: 20,781\n",
      "Trainable params: 20,781\n",
      "Non-trainable params: 0\n",
      "_________________________________________________________________\n",
      "None\n"
     ]
    }
   ],
   "source": [
    "# model\n",
    "# dpp_model = model.Model(verbose=False)\n",
    "dpp_model = model.Model(verbose=False, version_pick_P=\"20201002_2\", ntrials_P=17)\n",
    "#\n",
    "print(dpp_model.model_detection['best_model'].summary())\n",
    "print(dpp_model.model_picking_P['best_model'].summary())\n",
    "print(dpp_model.model_picking_S['best_model'].summary())"
   ]
  },
  {
   "cell_type": "code",
   "execution_count": 6,
   "metadata": {
    "scrolled": false
   },
   "outputs": [
    {
     "name": "stdout",
     "output_type": "stream",
     "text": [
      "#\n",
      "Calculating predictions for stream: CX.PB01..HH?...\n",
      "720/720 [==============================] - 36s 50ms/step\n",
      "3 Trace(s) in Stream:\n",
      "CX.PB01..HHE | 2014-03-01T01:59:59.998393Z - 2014-03-01T02:59:59.998393Z | 100.0 Hz, 360001 samples\n",
      "CX.PB01..HHN | 2014-03-01T01:59:59.998393Z - 2014-03-01T02:59:59.998393Z | 100.0 Hz, 360001 samples\n",
      "CX.PB01..HHZ | 2014-03-01T01:59:59.998393Z - 2014-03-01T02:59:59.998393Z | 100.0 Hz, 360001 samples\n",
      "p_picks = 15, s_picks = 12\n",
      "#\n",
      "Calculating predictions for stream: CX.PB02..HH?...\n",
      "strimming stream: 2, 2\n",
      "720/720 [==============================] - 37s 52ms/step\n",
      "3 Trace(s) in Stream:\n",
      "CX.PB02..HHE | 2014-03-01T01:59:59.998393Z - 2014-03-01T02:59:59.998393Z | 100.0 Hz, 360001 samples\n",
      "CX.PB02..HHN | 2014-03-01T01:59:59.998393Z - 2014-03-01T02:59:59.998393Z | 100.0 Hz, 360001 samples\n",
      "CX.PB02..HHZ | 2014-03-01T01:59:59.998391Z - 2014-03-01T02:59:59.998391Z | 100.0 Hz, 360001 samples\n",
      "p_picks = 10, s_picks = 8\n"
     ]
    }
   ],
   "source": [
    "# run phase detection\n",
    "dpp_model.run_detection(dpp_config, dpp_data, save_dets=False, save_data=False)"
   ]
  },
  {
   "cell_type": "code",
   "execution_count": 7,
   "metadata": {
    "scrolled": false
   },
   "outputs": [
    {
     "name": "stdout",
     "output_type": "stream",
     "text": [
      "#\n",
      "1, 2014-03-01T02:00:00.000000Z, 2014-03-01T03:00:00.000000Z, PB01\n",
      "triggered picks (P, S): 15, 12\n",
      "selected picks (P, S): 11, 6\n",
      "#\n",
      "P pick: 1/11\n"
     ]
    },
    {
     "name": "stderr",
     "output_type": "stream",
     "text": [
      "100%|██████████| 10/10 [00:02<00:00,  3.60it/s]\n"
     ]
    },
    {
     "name": "stdout",
     "output_type": "stream",
     "text": [
      "3.36 3.26 3.25 3.27 out_CX_20140301/20140301T020000_20140301T030000 PB01\n",
      "plotting predicted phase P: out_CX_20140301/20140301T020000_20140301T030000/pick_plots/PB01_P_01.png\n",
      "plotting predicted phase P: out_CX_20140301/20140301T020000_20140301T030000/pick_plots/PB01_P_mc_01.png\n",
      "tpred = 3.260\n",
      "terr(1 x pb_std) = (-0.010, +0.010)\n",
      "pick_class = 0\n",
      "pb, pb_std = (0.512, 0.158)\n",
      "#\n",
      "P pick: 2/11\n"
     ]
    },
    {
     "name": "stderr",
     "output_type": "stream",
     "text": [
      "100%|██████████| 10/10 [00:01<00:00,  6.27it/s]\n"
     ]
    },
    {
     "name": "stdout",
     "output_type": "stream",
     "text": [
      "3.36 3.33 3.33 3.35 out_CX_20140301/20140301T020000_20140301T030000 PB01\n",
      "plotting predicted phase P: out_CX_20140301/20140301T020000_20140301T030000/pick_plots/PB01_P_02.png\n",
      "plotting predicted phase P: out_CX_20140301/20140301T020000_20140301T030000/pick_plots/PB01_P_mc_02.png\n",
      "tpred = 3.330\n",
      "terr(1 x pb_std) = (-0.000, +0.020)\n",
      "pick_class = 0\n",
      "pb, pb_std = (0.705, 0.200)\n",
      "#\n",
      "P pick: 3/11\n"
     ]
    },
    {
     "name": "stderr",
     "output_type": "stream",
     "text": [
      "100%|██████████| 10/10 [00:01<00:00,  6.28it/s]\n"
     ]
    },
    {
     "name": "stdout",
     "output_type": "stream",
     "text": [
      "3.36 3.36 3.34 3.37 out_CX_20140301/20140301T020000_20140301T030000 PB01\n",
      "plotting predicted phase P: out_CX_20140301/20140301T020000_20140301T030000/pick_plots/PB01_P_03.png\n",
      "plotting predicted phase P: out_CX_20140301/20140301T020000_20140301T030000/pick_plots/PB01_P_mc_03.png\n",
      "tpred = 3.360\n",
      "terr(1 x pb_std) = (-0.020, +0.010)\n",
      "pick_class = 0\n",
      "pb, pb_std = (0.557, 0.188)\n",
      "#\n",
      "P pick: 4/11\n"
     ]
    },
    {
     "name": "stderr",
     "output_type": "stream",
     "text": [
      "100%|██████████| 10/10 [00:01<00:00,  6.26it/s]\n"
     ]
    },
    {
     "name": "stdout",
     "output_type": "stream",
     "text": [
      "3.36 3.32 3.25 3.52 out_CX_20140301/20140301T020000_20140301T030000 PB01\n",
      "plotting predicted phase P: out_CX_20140301/20140301T020000_20140301T030000/pick_plots/PB01_P_04.png\n",
      "plotting predicted phase P: out_CX_20140301/20140301T020000_20140301T030000/pick_plots/PB01_P_mc_04.png\n",
      "tpred = 3.320\n",
      "terr(1 x pb_std) = (-0.070, +0.200)\n",
      "pick_class = 2\n",
      "pb, pb_std = (0.531, 0.196)\n",
      "#\n",
      "P pick: 5/11\n"
     ]
    },
    {
     "name": "stderr",
     "output_type": "stream",
     "text": [
      "100%|██████████| 10/10 [00:01<00:00,  6.21it/s]\n"
     ]
    },
    {
     "name": "stdout",
     "output_type": "stream",
     "text": [
      "3.36 3.41 3.39 3.44 out_CX_20140301/20140301T020000_20140301T030000 PB01\n",
      "plotting predicted phase P: out_CX_20140301/20140301T020000_20140301T030000/pick_plots/PB01_P_05.png\n",
      "plotting predicted phase P: out_CX_20140301/20140301T020000_20140301T030000/pick_plots/PB01_P_mc_05.png\n",
      "tpred = 3.410\n",
      "terr(1 x pb_std) = (-0.020, +0.030)\n",
      "pick_class = 0\n",
      "pb, pb_std = (0.520, 0.170)\n",
      "#\n",
      "P pick: 6/11\n"
     ]
    },
    {
     "name": "stderr",
     "output_type": "stream",
     "text": [
      "100%|██████████| 10/10 [00:01<00:00,  6.42it/s]\n"
     ]
    },
    {
     "name": "stdout",
     "output_type": "stream",
     "text": [
      "3.36 3.22 3.2 3.25 out_CX_20140301/20140301T020000_20140301T030000 PB01\n",
      "plotting predicted phase P: out_CX_20140301/20140301T020000_20140301T030000/pick_plots/PB01_P_06.png\n",
      "plotting predicted phase P: out_CX_20140301/20140301T020000_20140301T030000/pick_plots/PB01_P_mc_06.png\n",
      "tpred = 3.220\n",
      "terr(1 x pb_std) = (-0.020, +0.030)\n",
      "pick_class = 0\n",
      "pb, pb_std = (0.522, 0.198)\n",
      "#\n",
      "P pick: 7/11\n"
     ]
    },
    {
     "name": "stderr",
     "output_type": "stream",
     "text": [
      "100%|██████████| 10/10 [00:01<00:00,  6.58it/s]\n"
     ]
    },
    {
     "name": "stdout",
     "output_type": "stream",
     "text": [
      "3.36 3.29 3.28 3.3 out_CX_20140301/20140301T020000_20140301T030000 PB01\n",
      "plotting predicted phase P: out_CX_20140301/20140301T020000_20140301T030000/pick_plots/PB01_P_07.png\n",
      "plotting predicted phase P: out_CX_20140301/20140301T020000_20140301T030000/pick_plots/PB01_P_mc_07.png\n",
      "tpred = 3.290\n",
      "terr(1 x pb_std) = (-0.010, +0.010)\n",
      "pick_class = 0\n",
      "pb, pb_std = (0.561, 0.130)\n",
      "#\n",
      "P pick: 8/11\n"
     ]
    },
    {
     "name": "stderr",
     "output_type": "stream",
     "text": [
      "100%|██████████| 10/10 [00:01<00:00,  6.80it/s]\n"
     ]
    },
    {
     "name": "stdout",
     "output_type": "stream",
     "text": [
      "3.36 3.66 3.61 3.7 out_CX_20140301/20140301T020000_20140301T030000 PB01\n",
      "plotting predicted phase P: out_CX_20140301/20140301T020000_20140301T030000/pick_plots/PB01_P_08.png\n",
      "plotting predicted phase P: out_CX_20140301/20140301T020000_20140301T030000/pick_plots/PB01_P_mc_08.png\n",
      "tpred = 3.660\n",
      "terr(1 x pb_std) = (-0.050, +0.040)\n",
      "pick_class = 0\n",
      "pb, pb_std = (0.509, 0.128)\n",
      "#\n",
      "P pick: 9/11\n"
     ]
    },
    {
     "name": "stderr",
     "output_type": "stream",
     "text": [
      "100%|██████████| 10/10 [00:01<00:00,  6.02it/s]\n"
     ]
    },
    {
     "name": "stdout",
     "output_type": "stream",
     "text": [
      "3.36 3.22 3.18 3.5 out_CX_20140301/20140301T020000_20140301T030000 PB01\n",
      "plotting predicted phase P: out_CX_20140301/20140301T020000_20140301T030000/pick_plots/PB01_P_09.png\n",
      "plotting predicted phase P: out_CX_20140301/20140301T020000_20140301T030000/pick_plots/PB01_P_mc_09.png\n",
      "tpred = 3.220\n",
      "terr(1 x pb_std) = (-0.040, +0.280)\n",
      "pick_class = 2\n",
      "pb, pb_std = (0.517, 0.220)\n",
      "#\n",
      "P pick: 10/11\n"
     ]
    },
    {
     "name": "stderr",
     "output_type": "stream",
     "text": [
      "100%|██████████| 10/10 [00:01<00:00,  6.63it/s]\n"
     ]
    },
    {
     "name": "stdout",
     "output_type": "stream",
     "text": [
      "3.36 3.22 3.18 3.28 out_CX_20140301/20140301T020000_20140301T030000 PB01\n",
      "plotting predicted phase P: out_CX_20140301/20140301T020000_20140301T030000/pick_plots/PB01_P_10.png\n",
      "plotting predicted phase P: out_CX_20140301/20140301T020000_20140301T030000/pick_plots/PB01_P_mc_10.png\n",
      "tpred = 3.220\n",
      "terr(1 x pb_std) = (-0.040, +0.060)\n",
      "pick_class = 0\n",
      "pb, pb_std = (0.506, 0.276)\n",
      "#\n",
      "P pick: 11/11\n"
     ]
    },
    {
     "name": "stderr",
     "output_type": "stream",
     "text": [
      "100%|██████████| 10/10 [00:01<00:00,  6.33it/s]\n"
     ]
    },
    {
     "name": "stdout",
     "output_type": "stream",
     "text": [
      "3.36 3.41 3.41 3.41 out_CX_20140301/20140301T020000_20140301T030000 PB01\n",
      "plotting predicted phase P: out_CX_20140301/20140301T020000_20140301T030000/pick_plots/PB01_P_11.png\n",
      "plotting predicted phase P: out_CX_20140301/20140301T020000_20140301T030000/pick_plots/PB01_P_mc_11.png\n",
      "tpred = 3.410\n",
      "terr(1 x pb_std) = (-0.000, +0.000)\n",
      "pick_class = 0\n",
      "pb, pb_std = (0.622, 0.106)\n",
      "#\n",
      "S pick: 1/6\n"
     ]
    },
    {
     "name": "stderr",
     "output_type": "stream",
     "text": [
      "100%|██████████| 10/10 [00:05<00:00,  1.99it/s]\n"
     ]
    },
    {
     "name": "stdout",
     "output_type": "stream",
     "text": [
      "2.4 2.29 2.21 2.38 out_CX_20140301/20140301T020000_20140301T030000 PB01\n",
      "(480,) (480,)\n",
      "plotting predicted phase S: out_CX_20140301/20140301T020000_20140301T030000/pick_plots/PB01_S_E_01.png\n",
      "plotting predicted phase S: out_CX_20140301/20140301T020000_20140301T030000/pick_plots/PB01_S_N_01.png\n",
      "plotting predicted phase S: out_CX_20140301/20140301T020000_20140301T030000/pick_plots/PB01_S_E_mc_01.png\n",
      "plotting predicted phase S: out_CX_20140301/20140301T020000_20140301T030000/pick_plots/PB01_S_N_mc_01.png\n",
      "tpred = 2.290\n",
      "terr(1 x pb_std) = (-0.080, +0.090)\n",
      "pick_class = 1\n",
      "pb, pb_std = (0.533, 0.213)\n",
      "#\n",
      "S pick: 2/6\n"
     ]
    },
    {
     "name": "stderr",
     "output_type": "stream",
     "text": [
      "100%|██████████| 10/10 [00:03<00:00,  2.79it/s]\n"
     ]
    },
    {
     "name": "stdout",
     "output_type": "stream",
     "text": [
      "2.4 2.47 2.42 2.49 out_CX_20140301/20140301T020000_20140301T030000 PB01\n",
      "(480,) (480,)\n",
      "plotting predicted phase S: out_CX_20140301/20140301T020000_20140301T030000/pick_plots/PB01_S_E_02.png\n",
      "plotting predicted phase S: out_CX_20140301/20140301T020000_20140301T030000/pick_plots/PB01_S_N_02.png\n",
      "plotting predicted phase S: out_CX_20140301/20140301T020000_20140301T030000/pick_plots/PB01_S_E_mc_02.png\n",
      "plotting predicted phase S: out_CX_20140301/20140301T020000_20140301T030000/pick_plots/PB01_S_N_mc_02.png\n",
      "tpred = 2.470\n",
      "terr(1 x pb_std) = (-0.050, +0.020)\n",
      "pick_class = 0\n",
      "pb, pb_std = (0.551, 0.167)\n",
      "#\n",
      "S pick: 3/6\n"
     ]
    },
    {
     "name": "stderr",
     "output_type": "stream",
     "text": [
      "100%|██████████| 10/10 [00:04<00:00,  2.31it/s]\n"
     ]
    },
    {
     "name": "stdout",
     "output_type": "stream",
     "text": [
      "2.4 2.47 2.38 2.63 out_CX_20140301/20140301T020000_20140301T030000 PB01\n",
      "(480,) (480,)\n",
      "plotting predicted phase S: out_CX_20140301/20140301T020000_20140301T030000/pick_plots/PB01_S_E_03.png\n",
      "plotting predicted phase S: out_CX_20140301/20140301T020000_20140301T030000/pick_plots/PB01_S_N_03.png\n",
      "plotting predicted phase S: out_CX_20140301/20140301T020000_20140301T030000/pick_plots/PB01_S_E_mc_03.png\n",
      "plotting predicted phase S: out_CX_20140301/20140301T020000_20140301T030000/pick_plots/PB01_S_N_mc_03.png\n",
      "tpred = 2.470\n",
      "terr(1 x pb_std) = (-0.090, +0.160)\n",
      "pick_class = 2\n",
      "pb, pb_std = (0.574, 0.307)\n",
      "#\n",
      "S pick: 4/6\n"
     ]
    },
    {
     "name": "stderr",
     "output_type": "stream",
     "text": [
      "100%|██████████| 10/10 [00:03<00:00,  2.65it/s]\n"
     ]
    },
    {
     "name": "stdout",
     "output_type": "stream",
     "text": [
      "2.4 2.42 2.41 2.45 out_CX_20140301/20140301T020000_20140301T030000 PB01\n",
      "(480,) (480,)\n",
      "plotting predicted phase S: out_CX_20140301/20140301T020000_20140301T030000/pick_plots/PB01_S_E_04.png\n",
      "plotting predicted phase S: out_CX_20140301/20140301T020000_20140301T030000/pick_plots/PB01_S_N_04.png\n",
      "plotting predicted phase S: out_CX_20140301/20140301T020000_20140301T030000/pick_plots/PB01_S_E_mc_04.png\n",
      "plotting predicted phase S: out_CX_20140301/20140301T020000_20140301T030000/pick_plots/PB01_S_N_mc_04.png\n",
      "tpred = 2.420\n",
      "terr(1 x pb_std) = (-0.010, +0.030)\n",
      "pick_class = 0\n",
      "pb, pb_std = (0.610, 0.208)\n",
      "#\n",
      "S pick: 5/6\n"
     ]
    },
    {
     "name": "stderr",
     "output_type": "stream",
     "text": [
      "100%|██████████| 10/10 [00:04<00:00,  2.38it/s]\n"
     ]
    },
    {
     "name": "stdout",
     "output_type": "stream",
     "text": [
      "2.4 2.27 2.25 2.33 out_CX_20140301/20140301T020000_20140301T030000 PB01\n",
      "(480,) (480,)\n",
      "plotting predicted phase S: out_CX_20140301/20140301T020000_20140301T030000/pick_plots/PB01_S_E_05.png\n",
      "plotting predicted phase S: out_CX_20140301/20140301T020000_20140301T030000/pick_plots/PB01_S_N_05.png\n",
      "plotting predicted phase S: out_CX_20140301/20140301T020000_20140301T030000/pick_plots/PB01_S_E_mc_05.png\n",
      "plotting predicted phase S: out_CX_20140301/20140301T020000_20140301T030000/pick_plots/PB01_S_N_mc_05.png\n",
      "tpred = 2.270\n",
      "terr(1 x pb_std) = (-0.020, +0.060)\n",
      "pick_class = 0\n",
      "pb, pb_std = (0.597, 0.229)\n",
      "#\n",
      "S pick: 6/6\n"
     ]
    },
    {
     "name": "stderr",
     "output_type": "stream",
     "text": [
      "100%|██████████| 10/10 [00:04<00:00,  2.03it/s]\n"
     ]
    },
    {
     "name": "stdout",
     "output_type": "stream",
     "text": [
      "2.4 2.39 2.39 2.42 out_CX_20140301/20140301T020000_20140301T030000 PB01\n",
      "(480,) (480,)\n",
      "plotting predicted phase S: out_CX_20140301/20140301T020000_20140301T030000/pick_plots/PB01_S_E_06.png\n",
      "plotting predicted phase S: out_CX_20140301/20140301T020000_20140301T030000/pick_plots/PB01_S_N_06.png\n",
      "plotting predicted phase S: out_CX_20140301/20140301T020000_20140301T030000/pick_plots/PB01_S_E_mc_06.png\n",
      "plotting predicted phase S: out_CX_20140301/20140301T020000_20140301T030000/pick_plots/PB01_S_N_mc_06.png\n",
      "tpred = 2.390\n",
      "terr(1 x pb_std) = (-0.000, +0.030)\n",
      "pick_class = 0\n",
      "pb, pb_std = (0.510, 0.183)\n",
      "#\n",
      "1, 2014-03-01T02:00:00.000000Z, 2014-03-01T03:00:00.000000Z, PB02\n",
      "triggered picks (P, S): 10, 8\n",
      "selected picks (P, S): 9, 5\n",
      "#\n",
      "P pick: 1/9\n"
     ]
    },
    {
     "name": "stderr",
     "output_type": "stream",
     "text": [
      "100%|██████████| 10/10 [00:01<00:00,  5.69it/s]\n"
     ]
    },
    {
     "name": "stdout",
     "output_type": "stream",
     "text": [
      "3.36 3.37 3.36 3.38 out_CX_20140301/20140301T020000_20140301T030000 PB02\n",
      "plotting predicted phase P: out_CX_20140301/20140301T020000_20140301T030000/pick_plots/PB02_P_01.png\n",
      "plotting predicted phase P: out_CX_20140301/20140301T020000_20140301T030000/pick_plots/PB02_P_mc_01.png\n",
      "tpred = 3.370\n",
      "terr(1 x pb_std) = (-0.010, +0.010)\n",
      "pick_class = 0\n",
      "pb, pb_std = (0.587, 0.119)\n",
      "#\n",
      "P pick: 2/9\n"
     ]
    },
    {
     "name": "stderr",
     "output_type": "stream",
     "text": [
      "100%|██████████| 10/10 [00:01<00:00,  6.48it/s]\n"
     ]
    },
    {
     "name": "stdout",
     "output_type": "stream",
     "text": [
      "3.36 3.46 3.44 3.54 out_CX_20140301/20140301T020000_20140301T030000 PB02\n",
      "plotting predicted phase P: out_CX_20140301/20140301T020000_20140301T030000/pick_plots/PB02_P_02.png\n",
      "plotting predicted phase P: out_CX_20140301/20140301T020000_20140301T030000/pick_plots/PB02_P_mc_02.png\n",
      "tpred = 3.460\n",
      "terr(1 x pb_std) = (-0.020, +0.080)\n",
      "pick_class = 1\n",
      "pb, pb_std = (0.548, 0.209)\n",
      "#\n",
      "P pick: 3/9\n"
     ]
    },
    {
     "name": "stderr",
     "output_type": "stream",
     "text": [
      "100%|██████████| 10/10 [00:01<00:00,  6.45it/s]\n"
     ]
    },
    {
     "name": "stdout",
     "output_type": "stream",
     "text": [
      "3.36 3.42 3.41 3.45 out_CX_20140301/20140301T020000_20140301T030000 PB02\n",
      "plotting predicted phase P: out_CX_20140301/20140301T020000_20140301T030000/pick_plots/PB02_P_03.png\n",
      "plotting predicted phase P: out_CX_20140301/20140301T020000_20140301T030000/pick_plots/PB02_P_mc_03.png\n",
      "tpred = 3.420\n",
      "terr(1 x pb_std) = (-0.010, +0.030)\n",
      "pick_class = 0\n",
      "pb, pb_std = (0.630, 0.207)\n",
      "#\n",
      "P pick: 4/9\n"
     ]
    },
    {
     "name": "stderr",
     "output_type": "stream",
     "text": [
      "100%|██████████| 10/10 [00:01<00:00,  6.08it/s]\n"
     ]
    },
    {
     "name": "stdout",
     "output_type": "stream",
     "text": [
      "3.36 3.5 3.49 3.52 out_CX_20140301/20140301T020000_20140301T030000 PB02\n",
      "plotting predicted phase P: out_CX_20140301/20140301T020000_20140301T030000/pick_plots/PB02_P_04.png\n",
      "plotting predicted phase P: out_CX_20140301/20140301T020000_20140301T030000/pick_plots/PB02_P_mc_04.png\n",
      "tpred = 3.500\n",
      "terr(1 x pb_std) = (-0.010, +0.020)\n",
      "pick_class = 0\n",
      "pb, pb_std = (0.593, 0.182)\n",
      "#\n",
      "P pick: 5/9\n"
     ]
    },
    {
     "name": "stderr",
     "output_type": "stream",
     "text": [
      "100%|██████████| 10/10 [00:01<00:00,  6.29it/s]\n"
     ]
    },
    {
     "name": "stdout",
     "output_type": "stream",
     "text": [
      "3.36 3.54 3.46 3.64 out_CX_20140301/20140301T020000_20140301T030000 PB02\n",
      "plotting predicted phase P: out_CX_20140301/20140301T020000_20140301T030000/pick_plots/PB02_P_05.png\n",
      "plotting predicted phase P: out_CX_20140301/20140301T020000_20140301T030000/pick_plots/PB02_P_mc_05.png\n",
      "tpred = 3.540\n",
      "terr(1 x pb_std) = (-0.080, +0.100)\n",
      "pick_class = 1\n",
      "pb, pb_std = (0.513, 0.225)\n",
      "#\n",
      "P pick: 6/9\n"
     ]
    },
    {
     "name": "stderr",
     "output_type": "stream",
     "text": [
      "100%|██████████| 10/10 [00:01<00:00,  6.54it/s]\n"
     ]
    },
    {
     "name": "stdout",
     "output_type": "stream",
     "text": [
      "3.36 3.34 3.31 3.45 out_CX_20140301/20140301T020000_20140301T030000 PB02\n",
      "plotting predicted phase P: out_CX_20140301/20140301T020000_20140301T030000/pick_plots/PB02_P_06.png\n",
      "plotting predicted phase P: out_CX_20140301/20140301T020000_20140301T030000/pick_plots/PB02_P_mc_06.png\n",
      "tpred = 3.340\n",
      "terr(1 x pb_std) = (-0.030, +0.110)\n",
      "pick_class = 1\n",
      "pb, pb_std = (0.515, 0.177)\n",
      "#\n",
      "P pick: 7/9\n"
     ]
    },
    {
     "name": "stderr",
     "output_type": "stream",
     "text": [
      "100%|██████████| 10/10 [00:01<00:00,  6.34it/s]\n"
     ]
    },
    {
     "name": "stdout",
     "output_type": "stream",
     "text": [
      "3.36 3.43 3.41 3.51 out_CX_20140301/20140301T020000_20140301T030000 PB02\n",
      "plotting predicted phase P: out_CX_20140301/20140301T020000_20140301T030000/pick_plots/PB02_P_07.png\n",
      "plotting predicted phase P: out_CX_20140301/20140301T020000_20140301T030000/pick_plots/PB02_P_mc_07.png\n",
      "tpred = 3.430\n",
      "terr(1 x pb_std) = (-0.020, +0.080)\n",
      "pick_class = 0\n",
      "pb, pb_std = (0.558, 0.193)\n",
      "#\n",
      "P pick: 8/9\n"
     ]
    },
    {
     "name": "stderr",
     "output_type": "stream",
     "text": [
      "100%|██████████| 10/10 [00:01<00:00,  6.48it/s]\n"
     ]
    },
    {
     "name": "stdout",
     "output_type": "stream",
     "text": [
      "3.36 3.39 3.37 3.41 out_CX_20140301/20140301T020000_20140301T030000 PB02\n",
      "plotting predicted phase P: out_CX_20140301/20140301T020000_20140301T030000/pick_plots/PB02_P_08.png\n",
      "plotting predicted phase P: out_CX_20140301/20140301T020000_20140301T030000/pick_plots/PB02_P_mc_08.png\n",
      "tpred = 3.390\n",
      "terr(1 x pb_std) = (-0.020, +0.020)\n",
      "pick_class = 0\n",
      "pb, pb_std = (0.522, 0.187)\n",
      "#\n",
      "P pick: 9/9\n"
     ]
    },
    {
     "name": "stderr",
     "output_type": "stream",
     "text": [
      "100%|██████████| 10/10 [00:01<00:00,  6.11it/s]\n"
     ]
    },
    {
     "name": "stdout",
     "output_type": "stream",
     "text": [
      "3.36 3.47 3.47 3.48 out_CX_20140301/20140301T020000_20140301T030000 PB02\n",
      "plotting predicted phase P: out_CX_20140301/20140301T020000_20140301T030000/pick_plots/PB02_P_09.png\n",
      "plotting predicted phase P: out_CX_20140301/20140301T020000_20140301T030000/pick_plots/PB02_P_mc_09.png\n",
      "tpred = 3.470\n",
      "terr(1 x pb_std) = (-0.000, +0.010)\n",
      "pick_class = 0\n",
      "pb, pb_std = (0.636, 0.171)\n",
      "#\n",
      "S pick: 1/5\n"
     ]
    },
    {
     "name": "stderr",
     "output_type": "stream",
     "text": [
      "100%|██████████| 10/10 [00:03<00:00,  2.67it/s]\n"
     ]
    },
    {
     "name": "stdout",
     "output_type": "stream",
     "text": [
      "2.4 2.38 2.34 2.46 out_CX_20140301/20140301T020000_20140301T030000 PB02\n",
      "(480,) (480,)\n",
      "plotting predicted phase S: out_CX_20140301/20140301T020000_20140301T030000/pick_plots/PB02_S_E_01.png\n",
      "plotting predicted phase S: out_CX_20140301/20140301T020000_20140301T030000/pick_plots/PB02_S_N_01.png\n",
      "plotting predicted phase S: out_CX_20140301/20140301T020000_20140301T030000/pick_plots/PB02_S_E_mc_01.png\n",
      "plotting predicted phase S: out_CX_20140301/20140301T020000_20140301T030000/pick_plots/PB02_S_N_mc_01.png\n",
      "tpred = 2.380\n",
      "terr(1 x pb_std) = (-0.040, +0.080)\n",
      "pick_class = 1\n",
      "pb, pb_std = (0.508, 0.196)\n",
      "#\n",
      "S pick: 2/5\n"
     ]
    },
    {
     "name": "stderr",
     "output_type": "stream",
     "text": [
      "100%|██████████| 10/10 [00:04<00:00,  2.43it/s]\n"
     ]
    },
    {
     "name": "stdout",
     "output_type": "stream",
     "text": [
      "2.4 2.42 2.32 2.5 out_CX_20140301/20140301T020000_20140301T030000 PB02\n",
      "(480,) (480,)\n",
      "plotting predicted phase S: out_CX_20140301/20140301T020000_20140301T030000/pick_plots/PB02_S_E_02.png\n",
      "plotting predicted phase S: out_CX_20140301/20140301T020000_20140301T030000/pick_plots/PB02_S_N_02.png\n",
      "plotting predicted phase S: out_CX_20140301/20140301T020000_20140301T030000/pick_plots/PB02_S_E_mc_02.png\n",
      "plotting predicted phase S: out_CX_20140301/20140301T020000_20140301T030000/pick_plots/PB02_S_N_mc_02.png\n",
      "tpred = 2.420\n",
      "terr(1 x pb_std) = (-0.100, +0.080)\n",
      "pick_class = 1\n",
      "pb, pb_std = (0.526, 0.217)\n",
      "#\n",
      "S pick: 3/5\n"
     ]
    },
    {
     "name": "stderr",
     "output_type": "stream",
     "text": [
      "100%|██████████| 10/10 [00:04<00:00,  2.06it/s]\n"
     ]
    },
    {
     "name": "stdout",
     "output_type": "stream",
     "text": [
      "2.4 2.49 2.4 2.57 out_CX_20140301/20140301T020000_20140301T030000 PB02\n",
      "(480,) (480,)\n",
      "plotting predicted phase S: out_CX_20140301/20140301T020000_20140301T030000/pick_plots/PB02_S_E_03.png\n",
      "plotting predicted phase S: out_CX_20140301/20140301T020000_20140301T030000/pick_plots/PB02_S_N_03.png\n",
      "plotting predicted phase S: out_CX_20140301/20140301T020000_20140301T030000/pick_plots/PB02_S_E_mc_03.png\n",
      "plotting predicted phase S: out_CX_20140301/20140301T020000_20140301T030000/pick_plots/PB02_S_N_mc_03.png\n",
      "tpred = 2.490\n",
      "terr(1 x pb_std) = (-0.090, +0.080)\n",
      "pick_class = 1\n",
      "pb, pb_std = (0.548, 0.196)\n",
      "#\n",
      "S pick: 4/5\n"
     ]
    },
    {
     "name": "stderr",
     "output_type": "stream",
     "text": [
      "100%|██████████| 10/10 [00:07<00:00,  1.38it/s]\n"
     ]
    },
    {
     "name": "stdout",
     "output_type": "stream",
     "text": [
      "2.4 2.53 2.52 2.62 out_CX_20140301/20140301T020000_20140301T030000 PB02\n",
      "(480,) (480,)\n",
      "plotting predicted phase S: out_CX_20140301/20140301T020000_20140301T030000/pick_plots/PB02_S_E_04.png\n",
      "plotting predicted phase S: out_CX_20140301/20140301T020000_20140301T030000/pick_plots/PB02_S_N_04.png\n",
      "plotting predicted phase S: out_CX_20140301/20140301T020000_20140301T030000/pick_plots/PB02_S_E_mc_04.png\n",
      "plotting predicted phase S: out_CX_20140301/20140301T020000_20140301T030000/pick_plots/PB02_S_N_mc_04.png\n",
      "tpred = 2.530\n",
      "terr(1 x pb_std) = (-0.010, +0.090)\n",
      "pick_class = 1\n",
      "pb, pb_std = (0.538, 0.112)\n",
      "#\n",
      "S pick: 5/5\n"
     ]
    },
    {
     "name": "stderr",
     "output_type": "stream",
     "text": [
      "100%|██████████| 10/10 [00:05<00:00,  1.71it/s]\n"
     ]
    },
    {
     "name": "stdout",
     "output_type": "stream",
     "text": [
      "2.4 2.46 2.38 2.56 out_CX_20140301/20140301T020000_20140301T030000 PB02\n",
      "(480,) (480,)\n",
      "plotting predicted phase S: out_CX_20140301/20140301T020000_20140301T030000/pick_plots/PB02_S_E_05.png\n",
      "plotting predicted phase S: out_CX_20140301/20140301T020000_20140301T030000/pick_plots/PB02_S_N_05.png\n",
      "plotting predicted phase S: out_CX_20140301/20140301T020000_20140301T030000/pick_plots/PB02_S_E_mc_05.png\n",
      "plotting predicted phase S: out_CX_20140301/20140301T020000_20140301T030000/pick_plots/PB02_S_N_mc_05.png\n",
      "tpred = 2.460\n",
      "terr(1 x pb_std) = (-0.080, +0.100)\n",
      "pick_class = 1\n",
      "pb, pb_std = (0.548, 0.247)\n"
     ]
    }
   ],
   "source": [
    "# run phase picking\n",
    "dpp_model.run_picking(dpp_config, dpp_data, save_plots=True, save_stats=True, save_picks=False)"
   ]
  },
  {
   "cell_type": "markdown",
   "metadata": {},
   "source": [
    "## 4. Plot predicted phases"
   ]
  },
  {
   "cell_type": "code",
   "execution_count": 8,
   "metadata": {},
   "outputs": [
    {
     "name": "stdout",
     "output_type": "stream",
     "text": [
      "creating plots...\n",
      "1 PB01 Z 2014-03-01T01:59:59.998393Z 2014-03-01T02:59:59.998393Z\n",
      "1 PB01 E 2014-03-01T01:59:59.998393Z 2014-03-01T02:59:59.998393Z\n",
      "1 PB02 Z 2014-03-01T01:59:59.998391Z 2014-03-01T02:59:59.998391Z\n",
      "1 PB02 E 2014-03-01T01:59:59.998393Z 2014-03-01T02:59:59.998393Z\n"
     ]
    }
   ],
   "source": [
    "# plots\n",
    "util.plot_predicted_phases(dpp_config, dpp_data, dpp_model)\n",
    "# util.plot_predicted_phases(dpp_config, dpp_data, dpp_model, plot_probs=['P','S'], shift_probs=True)"
   ]
  }
 ],
 "metadata": {
  "jupytext": {
   "text_representation": {
    "extension": ".py",
    "format_name": "light",
    "format_version": "1.4",
    "jupytext_version": "1.2.4"
   }
  },
  "kernelspec": {
   "display_name": "Python 3",
   "language": "python",
   "name": "python3"
  },
  "language_info": {
   "codemirror_mode": {
    "name": "ipython",
    "version": 3
   },
   "file_extension": ".py",
   "mimetype": "text/x-python",
   "name": "python",
   "nbconvert_exporter": "python",
   "pygments_lexer": "ipython3",
   "version": "3.6.13"
  }
 },
 "nbformat": 4,
 "nbformat_minor": 2
}
