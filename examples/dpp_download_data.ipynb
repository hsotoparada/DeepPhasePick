{
 "cells": [
  {
   "cell_type": "markdown",
   "metadata": {},
   "source": [
    "## This example applies DeepPhasePick on seismic data downloaded using FDSN web service client for ObsPy."
   ]
  },
  {
   "cell_type": "code",
   "execution_count": 1,
   "metadata": {},
   "outputs": [],
   "source": [
    "import os\n",
    "os.chdir('../')\n",
    "import config, data, model, util                                                \n",
    "from obspy.clients.fdsn import Client                                           \n",
    "import obspy.core as oc "
   ]
  },
  {
   "cell_type": "markdown",
   "metadata": {},
   "source": [
    "## 1. Configure DPP"
   ]
  },
  {
   "cell_type": "code",
   "execution_count": 3,
   "metadata": {},
   "outputs": [
    {
     "name": "stdout",
     "output_type": "stream",
     "text": [
      "__pycache__/ removed\n",
      "~/.nv/ not found, continuing...\n"
     ]
    }
   ],
   "source": [
    "# config\n",
    "util.init_session()\n",
    "dpp_config = config.Config()\n",
    "dpp_config.set_trigger(pthres_p=[0.9, 0.001], pthres_s=[0.9, 0.001])\n",
    "dpp_config.set_picking(mcd_iter=10, run_mcd=True)\n",
    "# dpp_config.set_picking(run_mcd=False)\n",
    "#\n",
    "dpp_config.set_data(\n",
    "    stas=['PB01', 'PB02'],\n",
    "    net='CX',\n",
    "    ch='HH',\n",
    "    archive='sample_data/CX_20140401',\n",
    "    opath='out_CX_20140401'\n",
    ")\n",
    "dpp_config.set_time(\n",
    "    dt_iter=3600.,\n",
    "    tstart = \"2014-04-01T02:00:00\",\n",
    "    tend = \"2014-04-01T03:00:00\",    \n",
    ")"
   ]
  },
  {
   "cell_type": "markdown",
   "metadata": {},
   "source": [
    "## 2. Download seismic data and read it into DPP"
   ]
  },
  {
   "cell_type": "code",
   "execution_count": 4,
   "metadata": {},
   "outputs": [
    {
     "name": "stdout",
     "output_type": "stream",
     "text": [
      "writing stream sample_data/CX_20140401/CX.PB01..HH.mseed...\n",
      "writing stream sample_data/CX_20140401/CX.PB02..HH.mseed...\n"
     ]
    }
   ],
   "source": [
    "# download and archive seismic waveforms\n",
    "client = Client(\"GFZ\")\n",
    "os.makedirs(f\"{dpp_config.data['archive']}\", exist_ok=True)\n",
    "tstart = oc.UTCDateTime(dpp_config.time['tstart'])\n",
    "tend = oc.UTCDateTime(dpp_config.time['tend'])\n",
    "#\n",
    "for sta in dpp_config.data['stas']:\n",
    "    st = client.get_waveforms(network=dpp_config.data['net'], station=sta, location=\"*\", channel=f\"{dpp_config.data['ch']}?\", starttime=tstart, endtime=tend)\n",
    "    # print(st)\n",
    "    st_name = f\"{dpp_config.data['archive']}/{st[0].stats.network}.{st[0].stats.station}..{st[0].stats.channel[:-1]}.mseed\"\n",
    "    print(f\"writing stream {st_name}...\")\n",
    "    st.write(st_name, format=\"MSEED\")"
   ]
  },
  {
   "cell_type": "code",
   "execution_count": 5,
   "metadata": {
    "scrolled": true
   },
   "outputs": [
    {
     "name": "stdout",
     "output_type": "stream",
     "text": [
      "reading seismic waveform: sample_data/CX_20140401/CX.PB01..HH.mseed\n",
      "reading seismic waveform: sample_data/CX_20140401/CX.PB02..HH.mseed\n",
      "6 Trace(s) in Stream:\n",
      "CX.PB01..HHZ | 2014-04-01T01:59:59.998393Z - 2014-04-01T02:59:59.998393Z | 100.0 Hz, 360001 samples\n",
      "CX.PB01..HHE | 2014-04-01T01:59:59.998394Z - 2014-04-01T02:59:59.998394Z | 100.0 Hz, 360001 samples\n",
      "CX.PB01..HHN | 2014-04-01T01:59:59.998393Z - 2014-04-01T02:59:59.998393Z | 100.0 Hz, 360001 samples\n",
      "CX.PB02..HHZ | 2014-04-01T01:59:59.998393Z - 2014-04-01T02:59:59.998393Z | 100.0 Hz, 360001 samples\n",
      "CX.PB02..HHE | 2014-04-01T01:59:59.998393Z - 2014-04-01T02:59:59.998393Z | 100.0 Hz, 360001 samples\n",
      "CX.PB02..HHN | 2014-04-01T01:59:59.998393Z - 2014-04-01T02:59:59.998393Z | 100.0 Hz, 360001 samples\n",
      "#\n",
      "processing raw stream data...\n",
      "detrend...\n",
      "resampling...\n",
      "merging...\n",
      "#\n",
      "time windows (1) for iteration over continuous waveforms:\n",
      "[UTCDateTime(2014, 4, 1, 2, 0), UTCDateTime(2014, 4, 1, 3, 0)]\n",
      "\n",
      "slicing...\n",
      "1 {'st': {'PB01': <obspy.core.stream.Stream object at 0x7f32e4360c18>, 'PB02': <obspy.core.stream.Stream object at 0x7f32e4352b38>}, 'twin': [UTCDateTime(2014, 4, 1, 2, 0), UTCDateTime(2014, 4, 1, 3, 0)], 'opath': 'out_CX_20140401/20140401T020000_20140401T030000'}\n"
     ]
    }
   ],
   "source": [
    "# data\n",
    "dpp_data = data.Data()\n",
    "dpp_data.read_from_directory(dpp_config)\n",
    "#\n",
    "# for k in dpp_data.data:\n",
    "#     print(k, dpp_data.data[k])"
   ]
  },
  {
   "cell_type": "markdown",
   "metadata": {},
   "source": [
    "## 3. Run phase detection and picking"
   ]
  },
  {
   "cell_type": "code",
   "execution_count": 1,
   "metadata": {
    "scrolled": true
   },
   "outputs": [
    {
     "ename": "NameError",
     "evalue": "name 'model' is not defined",
     "output_type": "error",
     "traceback": [
      "\u001b[0;31m---------------------------------------------------------------------------\u001b[0m",
      "\u001b[0;31mNameError\u001b[0m                                 Traceback (most recent call last)",
      "\u001b[0;32m<ipython-input-1-4d0fc3e86009>\u001b[0m in \u001b[0;36m<module>\u001b[0;34m()\u001b[0m\n\u001b[1;32m      1\u001b[0m \u001b[0;31m# model\u001b[0m\u001b[0;34m\u001b[0m\u001b[0;34m\u001b[0m\u001b[0;34m\u001b[0m\u001b[0m\n\u001b[0;32m----> 2\u001b[0;31m \u001b[0mdpp_model\u001b[0m \u001b[0;34m=\u001b[0m \u001b[0mmodel\u001b[0m\u001b[0;34m.\u001b[0m\u001b[0mModel\u001b[0m\u001b[0;34m(\u001b[0m\u001b[0mverbose\u001b[0m\u001b[0;34m=\u001b[0m\u001b[0;32mFalse\u001b[0m\u001b[0;34m)\u001b[0m\u001b[0;34m\u001b[0m\u001b[0;34m\u001b[0m\u001b[0m\n\u001b[0m\u001b[1;32m      3\u001b[0m \u001b[0;31m#\u001b[0m\u001b[0;34m\u001b[0m\u001b[0;34m\u001b[0m\u001b[0;34m\u001b[0m\u001b[0m\n\u001b[1;32m      4\u001b[0m \u001b[0mprint\u001b[0m\u001b[0;34m(\u001b[0m\u001b[0mdpp_model\u001b[0m\u001b[0;34m.\u001b[0m\u001b[0mmodel_detection\u001b[0m\u001b[0;34m[\u001b[0m\u001b[0;34m'best_model'\u001b[0m\u001b[0;34m]\u001b[0m\u001b[0;34m.\u001b[0m\u001b[0msummary\u001b[0m\u001b[0;34m(\u001b[0m\u001b[0;34m)\u001b[0m\u001b[0;34m)\u001b[0m\u001b[0;34m\u001b[0m\u001b[0;34m\u001b[0m\u001b[0m\n\u001b[1;32m      5\u001b[0m \u001b[0mprint\u001b[0m\u001b[0;34m(\u001b[0m\u001b[0mdpp_model\u001b[0m\u001b[0;34m.\u001b[0m\u001b[0mmodel_picking_P\u001b[0m\u001b[0;34m[\u001b[0m\u001b[0;34m'best_model'\u001b[0m\u001b[0;34m]\u001b[0m\u001b[0;34m.\u001b[0m\u001b[0msummary\u001b[0m\u001b[0;34m(\u001b[0m\u001b[0;34m)\u001b[0m\u001b[0;34m)\u001b[0m\u001b[0;34m\u001b[0m\u001b[0;34m\u001b[0m\u001b[0m\n",
      "\u001b[0;31mNameError\u001b[0m: name 'model' is not defined"
     ]
    }
   ],
   "source": [
    "# model\n",
    "dpp_model = model.Model(verbose=False)\n",
    "# dpp_model = model.Model(verbose=False, version_pick_P=\"20201002_2\", ntrials_P=50, version_pick_S=\"20201002_2\", ntrials_S=50)\n",
    "#\n",
    "# print(dpp_model.model_detection['best_model'].summary())\n",
    "# print(dpp_model.model_picking_P['best_model'].summary())\n",
    "# print(dpp_model.model_picking_S['best_model'].summary())"
   ]
  },
  {
   "cell_type": "code",
   "execution_count": 7,
   "metadata": {
    "scrolled": false
   },
   "outputs": [
    {
     "name": "stdout",
     "output_type": "stream",
     "text": [
      "#\n",
      "Calculating predictions for stream: CX.PB01..HH?...\n",
      "strimming stream: 1, 1\n",
      "720/720 [==============================] - 29s 41ms/step\n",
      "3 Trace(s) in Stream:\n",
      "CX.PB01..HHE | 2014-04-01T01:59:59.998394Z - 2014-04-01T02:59:59.998394Z | 100.0 Hz, 360001 samples\n",
      "CX.PB01..HHN | 2014-04-01T01:59:59.998393Z - 2014-04-01T02:59:59.998393Z | 100.0 Hz, 360001 samples\n",
      "CX.PB01..HHZ | 2014-04-01T01:59:59.998393Z - 2014-04-01T02:59:59.998393Z | 100.0 Hz, 360001 samples\n",
      "p_picks = 13, s_picks = 8\n",
      "#\n",
      "Calculating predictions for stream: CX.PB02..HH?...\n",
      "720/720 [==============================] - 30s 42ms/step\n",
      "3 Trace(s) in Stream:\n",
      "CX.PB02..HHE | 2014-04-01T01:59:59.998393Z - 2014-04-01T02:59:59.998393Z | 100.0 Hz, 360001 samples\n",
      "CX.PB02..HHN | 2014-04-01T01:59:59.998393Z - 2014-04-01T02:59:59.998393Z | 100.0 Hz, 360001 samples\n",
      "CX.PB02..HHZ | 2014-04-01T01:59:59.998393Z - 2014-04-01T02:59:59.998393Z | 100.0 Hz, 360001 samples\n",
      "p_picks = 10, s_picks = 4\n"
     ]
    }
   ],
   "source": [
    "# run phase detection\n",
    "dpp_model.run_detection(dpp_config, dpp_data, save_dets=False, save_data=False)"
   ]
  },
  {
   "cell_type": "code",
   "execution_count": 8,
   "metadata": {},
   "outputs": [
    {
     "name": "stdout",
     "output_type": "stream",
     "text": [
      "#\n",
      "1, 2014-04-01T02:00:00.000000Z, 2014-04-01T03:00:00.000000Z, PB01\n",
      "triggered picks (P, S): 13, 8\n",
      "selected picks (P, S): 10, 6\n",
      "#\n",
      "P pick: 1/10\n"
     ]
    },
    {
     "name": "stderr",
     "output_type": "stream",
     "text": [
      "100%|██████████| 10/10 [00:16<00:00,  1.66s/it]\n"
     ]
    },
    {
     "name": "stdout",
     "output_type": "stream",
     "text": [
      "3.36 3.57 3.48 3.8 out_CX_20140401/20140401T020000_20140401T030000 PB01\n",
      "plotting predicted phase P: out_CX_20140401/20140401T020000_20140401T030000/pick_plots/PB01_P_01.png\n",
      "plotting predicted phase P: out_CX_20140401/20140401T020000_20140401T030000/pick_plots/PB01_P_mc_01.png\n",
      "tpred = 3.570\n",
      "terr(1 x pb_std) = (-0.090, +0.230)\n",
      "pick_class = 2\n",
      "pb, pb_std = (0.510, 0.226)\n",
      "#\n",
      "P pick: 2/10\n"
     ]
    },
    {
     "name": "stderr",
     "output_type": "stream",
     "text": [
      "100%|██████████| 10/10 [00:13<00:00,  1.32s/it]\n"
     ]
    },
    {
     "name": "stdout",
     "output_type": "stream",
     "text": [
      "3.36 3.54 3.42 3.7 out_CX_20140401/20140401T020000_20140401T030000 PB01\n",
      "plotting predicted phase P: out_CX_20140401/20140401T020000_20140401T030000/pick_plots/PB01_P_02.png\n",
      "plotting predicted phase P: out_CX_20140401/20140401T020000_20140401T030000/pick_plots/PB01_P_mc_02.png\n",
      "tpred = 3.540\n",
      "terr(1 x pb_std) = (-0.120, +0.160)\n",
      "pick_class = 2\n",
      "pb, pb_std = (0.524, 0.167)\n",
      "#\n",
      "P pick: 3/10\n"
     ]
    },
    {
     "name": "stderr",
     "output_type": "stream",
     "text": [
      "100%|██████████| 10/10 [00:17<00:00,  1.72s/it]\n"
     ]
    },
    {
     "name": "stdout",
     "output_type": "stream",
     "text": [
      "3.36 3.27 3.16 3.35 out_CX_20140401/20140401T020000_20140401T030000 PB01\n",
      "plotting predicted phase P: out_CX_20140401/20140401T020000_20140401T030000/pick_plots/PB01_P_03.png\n",
      "plotting predicted phase P: out_CX_20140401/20140401T020000_20140401T030000/pick_plots/PB01_P_mc_03.png\n",
      "tpred = 3.270\n",
      "terr(1 x pb_std) = (-0.110, +0.080)\n",
      "pick_class = 1\n",
      "pb, pb_std = (0.504, 0.153)\n",
      "#\n",
      "P pick: 4/10\n"
     ]
    },
    {
     "name": "stderr",
     "output_type": "stream",
     "text": [
      "100%|██████████| 10/10 [00:14<00:00,  1.42s/it]\n"
     ]
    },
    {
     "name": "stdout",
     "output_type": "stream",
     "text": [
      "3.36 3.36 3.19 3.49 out_CX_20140401/20140401T020000_20140401T030000 PB01\n",
      "plotting predicted phase P: out_CX_20140401/20140401T020000_20140401T030000/pick_plots/PB01_P_04.png\n",
      "plotting predicted phase P: out_CX_20140401/20140401T020000_20140401T030000/pick_plots/PB01_P_mc_04.png\n",
      "tpred = 3.360\n",
      "terr(1 x pb_std) = (-0.170, +0.130)\n",
      "pick_class = 2\n",
      "pb, pb_std = (0.509, 0.150)\n",
      "#\n",
      "P pick: 5/10\n"
     ]
    },
    {
     "name": "stderr",
     "output_type": "stream",
     "text": [
      "100%|██████████| 10/10 [00:15<00:00,  1.57s/it]\n"
     ]
    },
    {
     "name": "stdout",
     "output_type": "stream",
     "text": [
      "3.36 3.45 3.15 3.69 out_CX_20140401/20140401T020000_20140401T030000 PB01\n",
      "plotting predicted phase P: out_CX_20140401/20140401T020000_20140401T030000/pick_plots/PB01_P_05.png\n",
      "plotting predicted phase P: out_CX_20140401/20140401T020000_20140401T030000/pick_plots/PB01_P_mc_05.png\n",
      "tpred = 3.450\n",
      "terr(1 x pb_std) = (-0.300, +0.240)\n",
      "pick_class = 3\n",
      "pb, pb_std = (0.510, 0.229)\n",
      "#\n",
      "P pick: 6/10\n"
     ]
    },
    {
     "name": "stderr",
     "output_type": "stream",
     "text": [
      "100%|██████████| 10/10 [00:13<00:00,  1.34s/it]\n"
     ]
    },
    {
     "name": "stdout",
     "output_type": "stream",
     "text": [
      "3.36 3.65 3.6 3.78 out_CX_20140401/20140401T020000_20140401T030000 PB01\n",
      "plotting predicted phase P: out_CX_20140401/20140401T020000_20140401T030000/pick_plots/PB01_P_06.png\n",
      "plotting predicted phase P: out_CX_20140401/20140401T020000_20140401T030000/pick_plots/PB01_P_mc_06.png\n",
      "tpred = 3.650\n",
      "terr(1 x pb_std) = (-0.050, +0.130)\n",
      "pick_class = 1\n",
      "pb, pb_std = (0.524, 0.224)\n",
      "#\n",
      "P pick: 7/10\n"
     ]
    },
    {
     "name": "stderr",
     "output_type": "stream",
     "text": [
      "100%|██████████| 10/10 [00:15<00:00,  1.50s/it]\n"
     ]
    },
    {
     "name": "stdout",
     "output_type": "stream",
     "text": [
      "3.36 3.74 3.61 3.84 out_CX_20140401/20140401T020000_20140401T030000 PB01\n",
      "plotting predicted phase P: out_CX_20140401/20140401T020000_20140401T030000/pick_plots/PB01_P_07.png\n",
      "plotting predicted phase P: out_CX_20140401/20140401T020000_20140401T030000/pick_plots/PB01_P_mc_07.png\n",
      "tpred = 3.740\n",
      "terr(1 x pb_std) = (-0.130, +0.100)\n",
      "pick_class = 2\n",
      "pb, pb_std = (0.527, 0.223)\n",
      "#\n",
      "P pick: 8/10\n"
     ]
    },
    {
     "name": "stderr",
     "output_type": "stream",
     "text": [
      "100%|██████████| 10/10 [00:13<00:00,  1.40s/it]\n"
     ]
    },
    {
     "name": "stdout",
     "output_type": "stream",
     "text": [
      "3.36 3.2 3.06 3.64 out_CX_20140401/20140401T020000_20140401T030000 PB01\n",
      "plotting predicted phase P: out_CX_20140401/20140401T020000_20140401T030000/pick_plots/PB01_P_08.png\n",
      "plotting predicted phase P: out_CX_20140401/20140401T020000_20140401T030000/pick_plots/PB01_P_mc_08.png\n",
      "tpred = 3.200\n",
      "terr(1 x pb_std) = (-0.140, +0.440)\n",
      "pick_class = 3\n",
      "pb, pb_std = (0.504, 0.202)\n",
      "#\n",
      "P pick: 9/10\n"
     ]
    },
    {
     "name": "stderr",
     "output_type": "stream",
     "text": [
      "100%|██████████| 10/10 [00:13<00:00,  1.36s/it]\n"
     ]
    },
    {
     "name": "stdout",
     "output_type": "stream",
     "text": [
      "3.36 3.57 3.47 3.73 out_CX_20140401/20140401T020000_20140401T030000 PB01\n",
      "plotting predicted phase P: out_CX_20140401/20140401T020000_20140401T030000/pick_plots/PB01_P_09.png\n",
      "plotting predicted phase P: out_CX_20140401/20140401T020000_20140401T030000/pick_plots/PB01_P_mc_09.png\n",
      "tpred = 3.570\n",
      "terr(1 x pb_std) = (-0.100, +0.160)\n",
      "pick_class = 2\n",
      "pb, pb_std = (0.503, 0.236)\n",
      "#\n",
      "P pick: 10/10\n"
     ]
    },
    {
     "name": "stderr",
     "output_type": "stream",
     "text": [
      "100%|██████████| 10/10 [00:13<00:00,  1.31s/it]\n"
     ]
    },
    {
     "name": "stdout",
     "output_type": "stream",
     "text": [
      "3.36 3.31 3.12 3.67 out_CX_20140401/20140401T020000_20140401T030000 PB01\n",
      "plotting predicted phase P: out_CX_20140401/20140401T020000_20140401T030000/pick_plots/PB01_P_10.png\n",
      "plotting predicted phase P: out_CX_20140401/20140401T020000_20140401T030000/pick_plots/PB01_P_mc_10.png\n",
      "tpred = 3.310\n",
      "terr(1 x pb_std) = (-0.190, +0.360)\n",
      "pick_class = 3\n",
      "pb, pb_std = (0.506, 0.199)\n",
      "#\n",
      "S pick: 1/6\n"
     ]
    },
    {
     "name": "stderr",
     "output_type": "stream",
     "text": [
      "100%|██████████| 10/10 [00:11<00:00,  1.11s/it]\n"
     ]
    },
    {
     "name": "stdout",
     "output_type": "stream",
     "text": [
      "2.4 2.39 2.23 2.6 out_CX_20140401/20140401T020000_20140401T030000 PB01\n",
      "(480,) (480,)\n",
      "plotting predicted phase S: out_CX_20140401/20140401T020000_20140401T030000/pick_plots/PB01_S_E_01.png\n",
      "plotting predicted phase S: out_CX_20140401/20140401T020000_20140401T030000/pick_plots/PB01_S_N_01.png\n",
      "plotting predicted phase S: out_CX_20140401/20140401T020000_20140401T030000/pick_plots/PB01_S_E_mc_01.png\n",
      "plotting predicted phase S: out_CX_20140401/20140401T020000_20140401T030000/pick_plots/PB01_S_N_mc_01.png\n",
      "tpred = 2.390\n",
      "terr(1 x pb_std) = (-0.160, +0.210)\n",
      "pick_class = 2\n",
      "pb, pb_std = (0.502, 0.178)\n",
      "#\n",
      "S pick: 2/6\n"
     ]
    },
    {
     "name": "stderr",
     "output_type": "stream",
     "text": [
      "100%|██████████| 10/10 [00:07<00:00,  1.31it/s]\n"
     ]
    },
    {
     "name": "stdout",
     "output_type": "stream",
     "text": [
      "2.4 2.41 2.35 2.48 out_CX_20140401/20140401T020000_20140401T030000 PB01\n",
      "(480,) (480,)\n",
      "plotting predicted phase S: out_CX_20140401/20140401T020000_20140401T030000/pick_plots/PB01_S_E_02.png\n",
      "plotting predicted phase S: out_CX_20140401/20140401T020000_20140401T030000/pick_plots/PB01_S_N_02.png\n",
      "plotting predicted phase S: out_CX_20140401/20140401T020000_20140401T030000/pick_plots/PB01_S_E_mc_02.png\n",
      "plotting predicted phase S: out_CX_20140401/20140401T020000_20140401T030000/pick_plots/PB01_S_N_mc_02.png\n",
      "tpred = 2.410\n",
      "terr(1 x pb_std) = (-0.060, +0.070)\n",
      "pick_class = 1\n",
      "pb, pb_std = (0.503, 0.181)\n",
      "#\n",
      "S pick: 3/6\n"
     ]
    },
    {
     "name": "stderr",
     "output_type": "stream",
     "text": [
      "100%|██████████| 10/10 [00:07<00:00,  1.36it/s]\n"
     ]
    },
    {
     "name": "stdout",
     "output_type": "stream",
     "text": [
      "2.4 2.46 2.33 2.54 out_CX_20140401/20140401T020000_20140401T030000 PB01\n",
      "(480,) (480,)\n",
      "plotting predicted phase S: out_CX_20140401/20140401T020000_20140401T030000/pick_plots/PB01_S_E_03.png\n",
      "plotting predicted phase S: out_CX_20140401/20140401T020000_20140401T030000/pick_plots/PB01_S_N_03.png\n",
      "plotting predicted phase S: out_CX_20140401/20140401T020000_20140401T030000/pick_plots/PB01_S_E_mc_03.png\n",
      "plotting predicted phase S: out_CX_20140401/20140401T020000_20140401T030000/pick_plots/PB01_S_N_mc_03.png\n",
      "tpred = 2.460\n",
      "terr(1 x pb_std) = (-0.130, +0.080)\n",
      "pick_class = 2\n",
      "pb, pb_std = (0.520, 0.173)\n",
      "#\n",
      "S pick: 4/6\n"
     ]
    },
    {
     "name": "stderr",
     "output_type": "stream",
     "text": [
      "100%|██████████| 10/10 [00:08<00:00,  1.21it/s]\n"
     ]
    },
    {
     "name": "stdout",
     "output_type": "stream",
     "text": [
      "2.4 1.87 1.68 2.16 out_CX_20140401/20140401T020000_20140401T030000 PB01\n",
      "(480,) (480,)\n",
      "plotting predicted phase S: out_CX_20140401/20140401T020000_20140401T030000/pick_plots/PB01_S_E_04.png\n",
      "plotting predicted phase S: out_CX_20140401/20140401T020000_20140401T030000/pick_plots/PB01_S_N_04.png\n",
      "plotting predicted phase S: out_CX_20140401/20140401T020000_20140401T030000/pick_plots/PB01_S_E_mc_04.png\n",
      "plotting predicted phase S: out_CX_20140401/20140401T020000_20140401T030000/pick_plots/PB01_S_N_mc_04.png\n",
      "tpred = 1.870\n",
      "terr(1 x pb_std) = (-0.190, +0.290)\n",
      "pick_class = 3\n",
      "pb, pb_std = (0.503, 0.293)\n",
      "#\n",
      "S pick: 5/6\n"
     ]
    },
    {
     "name": "stderr",
     "output_type": "stream",
     "text": [
      "100%|██████████| 10/10 [00:08<00:00,  1.14it/s]\n"
     ]
    },
    {
     "name": "stdout",
     "output_type": "stream",
     "text": [
      "2.4 2.3 2.26 2.44 out_CX_20140401/20140401T020000_20140401T030000 PB01\n",
      "(480,) (480,)\n",
      "plotting predicted phase S: out_CX_20140401/20140401T020000_20140401T030000/pick_plots/PB01_S_E_05.png\n",
      "plotting predicted phase S: out_CX_20140401/20140401T020000_20140401T030000/pick_plots/PB01_S_N_05.png\n",
      "plotting predicted phase S: out_CX_20140401/20140401T020000_20140401T030000/pick_plots/PB01_S_E_mc_05.png\n",
      "plotting predicted phase S: out_CX_20140401/20140401T020000_20140401T030000/pick_plots/PB01_S_N_mc_05.png\n",
      "tpred = 2.300\n",
      "terr(1 x pb_std) = (-0.040, +0.140)\n",
      "pick_class = 1\n",
      "pb, pb_std = (0.585, 0.198)\n",
      "#\n",
      "S pick: 6/6\n"
     ]
    },
    {
     "name": "stderr",
     "output_type": "stream",
     "text": [
      "100%|██████████| 10/10 [00:07<00:00,  1.29it/s]\n"
     ]
    },
    {
     "name": "stdout",
     "output_type": "stream",
     "text": [
      "2.4 2.16 1.92 2.56 out_CX_20140401/20140401T020000_20140401T030000 PB01\n",
      "(480,) (480,)\n",
      "plotting predicted phase S: out_CX_20140401/20140401T020000_20140401T030000/pick_plots/PB01_S_E_06.png\n",
      "plotting predicted phase S: out_CX_20140401/20140401T020000_20140401T030000/pick_plots/PB01_S_N_06.png\n",
      "plotting predicted phase S: out_CX_20140401/20140401T020000_20140401T030000/pick_plots/PB01_S_E_mc_06.png\n",
      "plotting predicted phase S: out_CX_20140401/20140401T020000_20140401T030000/pick_plots/PB01_S_N_mc_06.png\n",
      "tpred = 2.160\n",
      "terr(1 x pb_std) = (-0.240, +0.400)\n",
      "pick_class = 3\n",
      "pb, pb_std = (0.503, 0.301)\n",
      "#\n",
      "1, 2014-04-01T02:00:00.000000Z, 2014-04-01T03:00:00.000000Z, PB02\n",
      "triggered picks (P, S): 10, 4\n",
      "selected picks (P, S): 10, 3\n",
      "#\n",
      "P pick: 1/10\n"
     ]
    },
    {
     "name": "stderr",
     "output_type": "stream",
     "text": [
      "100%|██████████| 10/10 [00:14<00:00,  1.41s/it]\n"
     ]
    },
    {
     "name": "stdout",
     "output_type": "stream",
     "text": [
      "3.36 3.71 3.66 3.77 out_CX_20140401/20140401T020000_20140401T030000 PB02\n",
      "plotting predicted phase P: out_CX_20140401/20140401T020000_20140401T030000/pick_plots/PB02_P_01.png\n",
      "plotting predicted phase P: out_CX_20140401/20140401T020000_20140401T030000/pick_plots/PB02_P_mc_01.png\n",
      "tpred = 3.710\n",
      "terr(1 x pb_std) = (-0.050, +0.060)\n",
      "pick_class = 1\n",
      "pb, pb_std = (0.519, 0.196)\n",
      "#\n",
      "P pick: 2/10\n"
     ]
    },
    {
     "name": "stderr",
     "output_type": "stream",
     "text": [
      "100%|██████████| 10/10 [00:11<00:00,  1.17s/it]\n"
     ]
    },
    {
     "name": "stdout",
     "output_type": "stream",
     "text": [
      "3.36 3.15 3.07 3.27 out_CX_20140401/20140401T020000_20140401T030000 PB02\n",
      "plotting predicted phase P: out_CX_20140401/20140401T020000_20140401T030000/pick_plots/PB02_P_02.png\n",
      "plotting predicted phase P: out_CX_20140401/20140401T020000_20140401T030000/pick_plots/PB02_P_mc_02.png\n",
      "tpred = 3.150\n",
      "terr(1 x pb_std) = (-0.080, +0.120)\n",
      "pick_class = 2\n",
      "pb, pb_std = (0.535, 0.197)\n",
      "#\n",
      "P pick: 3/10\n"
     ]
    },
    {
     "name": "stderr",
     "output_type": "stream",
     "text": [
      "100%|██████████| 10/10 [00:19<00:00,  1.98s/it]\n"
     ]
    },
    {
     "name": "stdout",
     "output_type": "stream",
     "text": [
      "3.36 3.47 3.46 3.55 out_CX_20140401/20140401T020000_20140401T030000 PB02\n",
      "plotting predicted phase P: out_CX_20140401/20140401T020000_20140401T030000/pick_plots/PB02_P_03.png\n",
      "plotting predicted phase P: out_CX_20140401/20140401T020000_20140401T030000/pick_plots/PB02_P_mc_03.png\n",
      "tpred = 3.470\n",
      "terr(1 x pb_std) = (-0.010, +0.080)\n",
      "pick_class = 0\n",
      "pb, pb_std = (0.512, 0.106)\n",
      "#\n",
      "P pick: 4/10\n"
     ]
    },
    {
     "name": "stderr",
     "output_type": "stream",
     "text": [
      "100%|██████████| 10/10 [00:13<00:00,  1.34s/it]\n"
     ]
    },
    {
     "name": "stdout",
     "output_type": "stream",
     "text": [
      "3.36 3.38 3.33 3.41 out_CX_20140401/20140401T020000_20140401T030000 PB02\n",
      "plotting predicted phase P: out_CX_20140401/20140401T020000_20140401T030000/pick_plots/PB02_P_04.png\n",
      "plotting predicted phase P: out_CX_20140401/20140401T020000_20140401T030000/pick_plots/PB02_P_mc_04.png\n",
      "tpred = 3.380\n",
      "terr(1 x pb_std) = (-0.050, +0.030)\n",
      "pick_class = 0\n",
      "pb, pb_std = (0.514, 0.218)\n",
      "#\n",
      "P pick: 5/10\n"
     ]
    },
    {
     "name": "stderr",
     "output_type": "stream",
     "text": [
      "100%|██████████| 10/10 [00:15<00:00,  1.56s/it]\n"
     ]
    },
    {
     "name": "stdout",
     "output_type": "stream",
     "text": [
      "3.36 3.36 3.23 3.68 out_CX_20140401/20140401T020000_20140401T030000 PB02\n",
      "plotting predicted phase P: out_CX_20140401/20140401T020000_20140401T030000/pick_plots/PB02_P_05.png\n",
      "plotting predicted phase P: out_CX_20140401/20140401T020000_20140401T030000/pick_plots/PB02_P_mc_05.png\n",
      "tpred = 3.360\n",
      "terr(1 x pb_std) = (-0.130, +0.320)\n",
      "pick_class = 3\n",
      "pb, pb_std = (0.503, 0.213)\n",
      "#\n",
      "P pick: 6/10\n"
     ]
    },
    {
     "name": "stderr",
     "output_type": "stream",
     "text": [
      "100%|██████████| 10/10 [00:14<00:00,  1.40s/it]\n"
     ]
    },
    {
     "name": "stdout",
     "output_type": "stream",
     "text": [
      "3.36 3.78 3.74 3.83 out_CX_20140401/20140401T020000_20140401T030000 PB02\n",
      "plotting predicted phase P: out_CX_20140401/20140401T020000_20140401T030000/pick_plots/PB02_P_06.png\n",
      "plotting predicted phase P: out_CX_20140401/20140401T020000_20140401T030000/pick_plots/PB02_P_mc_06.png\n",
      "tpred = 3.780\n",
      "terr(1 x pb_std) = (-0.040, +0.050)\n",
      "pick_class = 0\n",
      "pb, pb_std = (0.547, 0.174)\n",
      "#\n",
      "P pick: 7/10\n"
     ]
    },
    {
     "name": "stderr",
     "output_type": "stream",
     "text": [
      "100%|██████████| 10/10 [00:13<00:00,  1.34s/it]\n"
     ]
    },
    {
     "name": "stdout",
     "output_type": "stream",
     "text": [
      "3.36 3.77 3.75 3.79 out_CX_20140401/20140401T020000_20140401T030000 PB02\n",
      "plotting predicted phase P: out_CX_20140401/20140401T020000_20140401T030000/pick_plots/PB02_P_07.png\n",
      "plotting predicted phase P: out_CX_20140401/20140401T020000_20140401T030000/pick_plots/PB02_P_mc_07.png\n",
      "tpred = 3.770\n",
      "terr(1 x pb_std) = (-0.020, +0.020)\n",
      "pick_class = 0\n",
      "pb, pb_std = (0.527, 0.119)\n",
      "#\n",
      "P pick: 8/10\n"
     ]
    },
    {
     "name": "stderr",
     "output_type": "stream",
     "text": [
      "100%|██████████| 10/10 [00:14<00:00,  1.46s/it]\n"
     ]
    },
    {
     "name": "stdout",
     "output_type": "stream",
     "text": [
      "3.36 3.45 3.41 3.5 out_CX_20140401/20140401T020000_20140401T030000 PB02\n",
      "plotting predicted phase P: out_CX_20140401/20140401T020000_20140401T030000/pick_plots/PB02_P_08.png\n",
      "plotting predicted phase P: out_CX_20140401/20140401T020000_20140401T030000/pick_plots/PB02_P_mc_08.png\n",
      "tpred = 3.450\n",
      "terr(1 x pb_std) = (-0.040, +0.050)\n",
      "pick_class = 0\n",
      "pb, pb_std = (0.531, 0.173)\n",
      "#\n",
      "P pick: 9/10\n"
     ]
    },
    {
     "name": "stderr",
     "output_type": "stream",
     "text": [
      "100%|██████████| 10/10 [00:14<00:00,  1.46s/it]\n"
     ]
    },
    {
     "name": "stdout",
     "output_type": "stream",
     "text": [
      "3.36 3.53 3.4 3.82 out_CX_20140401/20140401T020000_20140401T030000 PB02\n",
      "plotting predicted phase P: out_CX_20140401/20140401T020000_20140401T030000/pick_plots/PB02_P_09.png\n",
      "plotting predicted phase P: out_CX_20140401/20140401T020000_20140401T030000/pick_plots/PB02_P_mc_09.png\n",
      "tpred = 3.530\n",
      "terr(1 x pb_std) = (-0.130, +0.290)\n",
      "pick_class = 3\n",
      "pb, pb_std = (0.503, 0.197)\n",
      "#\n",
      "P pick: 10/10\n"
     ]
    },
    {
     "name": "stderr",
     "output_type": "stream",
     "text": [
      "100%|██████████| 10/10 [00:14<00:00,  1.49s/it]\n"
     ]
    },
    {
     "name": "stdout",
     "output_type": "stream",
     "text": [
      "3.36 3.18 3.09 3.57 out_CX_20140401/20140401T020000_20140401T030000 PB02\n",
      "plotting predicted phase P: out_CX_20140401/20140401T020000_20140401T030000/pick_plots/PB02_P_10.png\n",
      "plotting predicted phase P: out_CX_20140401/20140401T020000_20140401T030000/pick_plots/PB02_P_mc_10.png\n",
      "tpred = 3.180\n",
      "terr(1 x pb_std) = (-0.090, +0.390)\n",
      "pick_class = 3\n",
      "pb, pb_std = (0.542, 0.155)\n",
      "#\n",
      "S pick: 1/3\n"
     ]
    },
    {
     "name": "stderr",
     "output_type": "stream",
     "text": [
      "100%|██████████| 10/10 [00:08<00:00,  1.14it/s]\n"
     ]
    },
    {
     "name": "stdout",
     "output_type": "stream",
     "text": [
      "2.4 2.19 2.08 2.34 out_CX_20140401/20140401T020000_20140401T030000 PB02\n",
      "(480,) (480,)\n",
      "plotting predicted phase S: out_CX_20140401/20140401T020000_20140401T030000/pick_plots/PB02_S_E_01.png\n",
      "plotting predicted phase S: out_CX_20140401/20140401T020000_20140401T030000/pick_plots/PB02_S_N_01.png\n",
      "plotting predicted phase S: out_CX_20140401/20140401T020000_20140401T030000/pick_plots/PB02_S_E_mc_01.png\n",
      "plotting predicted phase S: out_CX_20140401/20140401T020000_20140401T030000/pick_plots/PB02_S_N_mc_01.png\n",
      "tpred = 2.190\n",
      "terr(1 x pb_std) = (-0.110, +0.150)\n",
      "pick_class = 2\n",
      "pb, pb_std = (0.515, 0.239)\n",
      "#\n",
      "S pick: 2/3\n"
     ]
    },
    {
     "name": "stderr",
     "output_type": "stream",
     "text": [
      "100%|██████████| 10/10 [00:09<00:00,  1.10it/s]\n"
     ]
    },
    {
     "name": "stdout",
     "output_type": "stream",
     "text": [
      "2.4 2.39 2.35 2.56 out_CX_20140401/20140401T020000_20140401T030000 PB02\n",
      "(480,) (480,)\n",
      "plotting predicted phase S: out_CX_20140401/20140401T020000_20140401T030000/pick_plots/PB02_S_E_02.png\n",
      "plotting predicted phase S: out_CX_20140401/20140401T020000_20140401T030000/pick_plots/PB02_S_N_02.png\n",
      "plotting predicted phase S: out_CX_20140401/20140401T020000_20140401T030000/pick_plots/PB02_S_E_mc_02.png\n",
      "plotting predicted phase S: out_CX_20140401/20140401T020000_20140401T030000/pick_plots/PB02_S_N_mc_02.png\n",
      "tpred = 2.390\n",
      "terr(1 x pb_std) = (-0.040, +0.170)\n",
      "pick_class = 2\n",
      "pb, pb_std = (0.542, 0.192)\n",
      "#\n",
      "S pick: 3/3\n"
     ]
    },
    {
     "name": "stderr",
     "output_type": "stream",
     "text": [
      "100%|██████████| 10/10 [00:08<00:00,  1.22it/s]\n"
     ]
    },
    {
     "name": "stdout",
     "output_type": "stream",
     "text": [
      "2.4 2.41 2.22 2.55 out_CX_20140401/20140401T020000_20140401T030000 PB02\n",
      "(480,) (480,)\n",
      "plotting predicted phase S: out_CX_20140401/20140401T020000_20140401T030000/pick_plots/PB02_S_E_03.png\n",
      "plotting predicted phase S: out_CX_20140401/20140401T020000_20140401T030000/pick_plots/PB02_S_N_03.png\n",
      "plotting predicted phase S: out_CX_20140401/20140401T020000_20140401T030000/pick_plots/PB02_S_E_mc_03.png\n",
      "plotting predicted phase S: out_CX_20140401/20140401T020000_20140401T030000/pick_plots/PB02_S_N_mc_03.png\n",
      "tpred = 2.410\n",
      "terr(1 x pb_std) = (-0.190, +0.140)\n",
      "pick_class = 2\n",
      "pb, pb_std = (0.523, 0.167)\n"
     ]
    }
   ],
   "source": [
    "# run phase picking\n",
    "dpp_model.run_picking(dpp_config, dpp_data, save_plots=True, save_stats=True, save_picks=False)"
   ]
  },
  {
   "cell_type": "markdown",
   "metadata": {},
   "source": [
    "## 4. Plot predicted phases"
   ]
  },
  {
   "cell_type": "code",
   "execution_count": null,
   "metadata": {},
   "outputs": [],
   "source": [
    "# plots\n",
    "util.plot_predicted_phases(dpp_config, dpp_data, dpp_model)\n",
    "# util.plot_predicted_phases(dpp_config, dpp_data, dpp_model, plot_probs=['P','S'], shift_probs=True)"
   ]
  }
 ],
 "metadata": {
  "jupytext": {
   "text_representation": {
    "extension": ".py",
    "format_name": "light",
    "format_version": "1.4",
    "jupytext_version": "1.2.4"
   }
  },
  "kernelspec": {
   "display_name": "Python 3",
   "language": "python",
   "name": "python3"
  },
  "language_info": {
   "codemirror_mode": {
    "name": "ipython",
    "version": 3
   },
   "file_extension": ".py",
   "mimetype": "text/x-python",
   "name": "python",
   "nbconvert_exporter": "python",
   "pygments_lexer": "ipython3",
   "version": "3.6.13"
  }
 },
 "nbformat": 4,
 "nbformat_minor": 2
}
