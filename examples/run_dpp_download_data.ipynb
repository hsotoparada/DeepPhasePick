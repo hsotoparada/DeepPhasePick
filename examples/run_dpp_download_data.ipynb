{
 "cells": [
  {
   "cell_type": "markdown",
   "metadata": {},
   "source": [
    "### This example applies DeepPhasePick on seismic data downloaded using FDSN web service client for ObsPy."
   ]
  },
  {
   "cell_type": "code",
   "execution_count": 1,
   "metadata": {},
   "outputs": [],
   "source": [
    "import os\n",
    "os.chdir('../')\n",
    "import config, data, model, util                                                \n",
    "from obspy.clients.fdsn import Client                                           \n",
    "import obspy.core as oc "
   ]
  },
  {
   "cell_type": "markdown",
   "metadata": {},
   "source": [
    "## 1. Configure DPP"
   ]
  },
  {
   "cell_type": "code",
   "execution_count": 2,
   "metadata": {},
   "outputs": [
    {
     "name": "stdout",
     "output_type": "stream",
     "text": [
      "__pycache__/ removed\n",
      "~/.nv/ not found, continuing...\n"
     ]
    }
   ],
   "source": [
    "# config\n",
    "util.init_session()\n",
    "dpp_config = config.Config()\n",
    "dpp_config.set_trigger(pthres_p=[0.9, 0.001], pthres_s=[0.9, 0.001])\n",
    "dpp_config.set_picking(mcd_iter=10, run_mcd=True)\n",
    "# dpp_config.set_picking(run_mcd=False)\n",
    "#\n",
    "dpp_config.set_data(\n",
    "    stas=['PB01', 'PB02'],\n",
    "    net='CX',\n",
    "    ch='HH',\n",
    "    archive='sample_data/CX_20140401',\n",
    "    opath='out_CX_20140401'\n",
    ")\n",
    "dpp_config.set_time(\n",
    "    dt_iter=3600.,\n",
    "    tstart = \"2014-04-01T02:00:00\",\n",
    "    tend = \"2014-04-01T03:00:00\",    \n",
    ")"
   ]
  },
  {
   "cell_type": "markdown",
   "metadata": {},
   "source": [
    "## 2. Download seismic data and read it into DPP"
   ]
  },
  {
   "cell_type": "code",
   "execution_count": 3,
   "metadata": {},
   "outputs": [
    {
     "name": "stdout",
     "output_type": "stream",
     "text": [
      "writing stream sample_data/CX_20140401/CX.PB01..HH.mseed...\n",
      "writing stream sample_data/CX_20140401/CX.PB02..HH.mseed...\n"
     ]
    }
   ],
   "source": [
    "# download and archive seismic waveforms\n",
    "client = Client(\"GFZ\")\n",
    "os.makedirs(f\"{dpp_config.data['archive']}\", exist_ok=True)\n",
    "tstart = oc.UTCDateTime(dpp_config.time['tstart'])\n",
    "tend = oc.UTCDateTime(dpp_config.time['tend'])\n",
    "#\n",
    "for sta in dpp_config.data['stas']:\n",
    "    st = client.get_waveforms(network=dpp_config.data['net'], station=sta, location=\"*\", channel=f\"{dpp_config.data['ch']}?\", starttime=tstart, endtime=tend)\n",
    "    # print(st)\n",
    "    st_name = f\"{dpp_config.data['archive']}/{st[0].stats.network}.{st[0].stats.station}..{st[0].stats.channel[:-1]}.mseed\"\n",
    "    print(f\"writing stream {st_name}...\")\n",
    "    st.write(st_name, format=\"MSEED\")"
   ]
  },
  {
   "cell_type": "code",
   "execution_count": 4,
   "metadata": {
    "scrolled": true
   },
   "outputs": [
    {
     "name": "stdout",
     "output_type": "stream",
     "text": [
      "reading seismic waveform: sample_data/CX_20140401/CX.PB01..HH.mseed\n",
      "reading seismic waveform: sample_data/CX_20140401/CX.PB02..HH.mseed\n",
      "6 Trace(s) in Stream:\n",
      "CX.PB01..HHZ | 2014-04-01T01:59:59.998393Z - 2014-04-01T02:59:59.998393Z | 100.0 Hz, 360001 samples\n",
      "CX.PB01..HHE | 2014-04-01T01:59:59.998394Z - 2014-04-01T02:59:59.998394Z | 100.0 Hz, 360001 samples\n",
      "CX.PB01..HHN | 2014-04-01T01:59:59.998393Z - 2014-04-01T02:59:59.998393Z | 100.0 Hz, 360001 samples\n",
      "CX.PB02..HHZ | 2014-04-01T01:59:59.998393Z - 2014-04-01T02:59:59.998393Z | 100.0 Hz, 360001 samples\n",
      "CX.PB02..HHE | 2014-04-01T01:59:59.998393Z - 2014-04-01T02:59:59.998393Z | 100.0 Hz, 360001 samples\n",
      "CX.PB02..HHN | 2014-04-01T01:59:59.998393Z - 2014-04-01T02:59:59.998393Z | 100.0 Hz, 360001 samples\n",
      "#\n",
      "processing raw stream data...\n",
      "detrend...\n",
      "resampling...\n",
      "CX.PB01..HHZ | 2014-04-01T01:59:59.998393Z - 2014-04-01T02:59:59.998393Z | 100.0 Hz, 360001 samples --> skipped, already sampled at 100.0 Hz\n",
      "CX.PB01..HHE | 2014-04-01T01:59:59.998394Z - 2014-04-01T02:59:59.998394Z | 100.0 Hz, 360001 samples --> skipped, already sampled at 100.0 Hz\n",
      "CX.PB01..HHN | 2014-04-01T01:59:59.998393Z - 2014-04-01T02:59:59.998393Z | 100.0 Hz, 360001 samples --> skipped, already sampled at 100.0 Hz\n",
      "CX.PB02..HHZ | 2014-04-01T01:59:59.998393Z - 2014-04-01T02:59:59.998393Z | 100.0 Hz, 360001 samples --> skipped, already sampled at 100.0 Hz\n",
      "CX.PB02..HHE | 2014-04-01T01:59:59.998393Z - 2014-04-01T02:59:59.998393Z | 100.0 Hz, 360001 samples --> skipped, already sampled at 100.0 Hz\n",
      "CX.PB02..HHN | 2014-04-01T01:59:59.998393Z - 2014-04-01T02:59:59.998393Z | 100.0 Hz, 360001 samples --> skipped, already sampled at 100.0 Hz\n",
      "merging...\n",
      "#\n",
      "time windows (1) for iteration over continuous waveforms:\n",
      "[UTCDateTime(2014, 4, 1, 2, 0), UTCDateTime(2014, 4, 1, 3, 0)]\n",
      "\n",
      "slicing...\n"
     ]
    }
   ],
   "source": [
    "# data\n",
    "dpp_data = data.Data()\n",
    "dpp_data.read_from_directory(dpp_config)\n",
    "#\n",
    "# for k in dpp_data.data:\n",
    "#     print(k, dpp_data.data[k])"
   ]
  },
  {
   "cell_type": "markdown",
   "metadata": {},
   "source": [
    "## 3. Run phase detection and picking"
   ]
  },
  {
   "cell_type": "code",
   "execution_count": 5,
   "metadata": {
    "scrolled": true
   },
   "outputs": [],
   "source": [
    "# model\n",
    "# dpp_model = model.Model(verbose=False)\n",
    "dpp_model = model.Model(verbose=False, version_pick_P=\"20201002_2\", ntrials_P=50, version_pick_S=\"20201002_2\", ntrials_S=50)\n",
    "#\n",
    "# print(dpp_model.model_detection['best_model'].summary())\n",
    "# print(dpp_model.model_picking_P['best_model'].summary())\n",
    "# print(dpp_model.model_picking_S['best_model'].summary())"
   ]
  },
  {
   "cell_type": "code",
   "execution_count": 6,
   "metadata": {
    "scrolled": false
   },
   "outputs": [
    {
     "name": "stdout",
     "output_type": "stream",
     "text": [
      "#\n",
      "Calculating predictions for stream: CX.PB01..HH?...\n",
      "strimming stream: 1, 1\n",
      "720/720 [==============================] - 28s 39ms/step\n",
      "3 Trace(s) in Stream:\n",
      "CX.PB01..HHE | 2014-04-01T01:59:59.998394Z - 2014-04-01T02:59:59.998394Z | 100.0 Hz, 360001 samples\n",
      "CX.PB01..HHN | 2014-04-01T01:59:59.998393Z - 2014-04-01T02:59:59.998393Z | 100.0 Hz, 360001 samples\n",
      "CX.PB01..HHZ | 2014-04-01T01:59:59.998393Z - 2014-04-01T02:59:59.998393Z | 100.0 Hz, 360001 samples\n",
      "p_picks = 13, s_picks = 8\n",
      "#\n",
      "Calculating predictions for stream: CX.PB02..HH?...\n",
      "720/720 [==============================] - 34s 48ms/step\n",
      "3 Trace(s) in Stream:\n",
      "CX.PB02..HHE | 2014-04-01T01:59:59.998393Z - 2014-04-01T02:59:59.998393Z | 100.0 Hz, 360001 samples\n",
      "CX.PB02..HHN | 2014-04-01T01:59:59.998393Z - 2014-04-01T02:59:59.998393Z | 100.0 Hz, 360001 samples\n",
      "CX.PB02..HHZ | 2014-04-01T01:59:59.998393Z - 2014-04-01T02:59:59.998393Z | 100.0 Hz, 360001 samples\n",
      "p_picks = 10, s_picks = 4\n"
     ]
    }
   ],
   "source": [
    "# run phase detection\n",
    "dpp_model.run_detection(dpp_config, dpp_data, save_dets=False, save_data=False)"
   ]
  },
  {
   "cell_type": "code",
   "execution_count": 7,
   "metadata": {
    "scrolled": false
   },
   "outputs": [
    {
     "name": "stdout",
     "output_type": "stream",
     "text": [
      "#\n",
      "1, 2014-04-01T02:00:00.000000Z, 2014-04-01T03:00:00.000000Z, PB01\n",
      "triggered picks (P, S): 13, 8\n",
      "selected picks (P, S): 10, 6\n",
      "#\n",
      "P pick: 1/10\n"
     ]
    },
    {
     "name": "stderr",
     "output_type": "stream",
     "text": [
      "100%|██████████| 10/10 [00:03<00:00,  2.97it/s]\n"
     ]
    },
    {
     "name": "stdout",
     "output_type": "stream",
     "text": [
      "3.36 3.47 3.41 3.77 out_CX_20140401/20140401T020000_20140401T030000 PB01\n",
      "plotting predicted phase P: out_CX_20140401/20140401T020000_20140401T030000/pick_plots/PB01_P_01.png\n",
      "plotting predicted phase P: out_CX_20140401/20140401T020000_20140401T030000/pick_plots/PB01_P_mc_01.png\n",
      "tpred = 3.470\n",
      "terr(1 x pb_std) = (-0.060, +0.300)\n",
      "pick_class = 2\n",
      "pb, pb_std = (0.508, 0.233)\n",
      "#\n",
      "P pick: 2/10\n"
     ]
    },
    {
     "name": "stderr",
     "output_type": "stream",
     "text": [
      "100%|██████████| 10/10 [00:01<00:00,  5.11it/s]\n"
     ]
    },
    {
     "name": "stdout",
     "output_type": "stream",
     "text": [
      "3.36 3.62 3.47 3.71 out_CX_20140401/20140401T020000_20140401T030000 PB01\n",
      "plotting predicted phase P: out_CX_20140401/20140401T020000_20140401T030000/pick_plots/PB01_P_02.png\n",
      "plotting predicted phase P: out_CX_20140401/20140401T020000_20140401T030000/pick_plots/PB01_P_mc_02.png\n",
      "tpred = 3.620\n",
      "terr(1 x pb_std) = (-0.150, +0.090)\n",
      "pick_class = 2\n",
      "pb, pb_std = (0.502, 0.199)\n",
      "#\n",
      "P pick: 3/10\n"
     ]
    },
    {
     "name": "stderr",
     "output_type": "stream",
     "text": [
      "100%|██████████| 10/10 [00:01<00:00,  5.44it/s]\n"
     ]
    },
    {
     "name": "stdout",
     "output_type": "stream",
     "text": [
      "3.36 3.31 3.3 3.32 out_CX_20140401/20140401T020000_20140401T030000 PB01\n",
      "plotting predicted phase P: out_CX_20140401/20140401T020000_20140401T030000/pick_plots/PB01_P_03.png\n",
      "plotting predicted phase P: out_CX_20140401/20140401T020000_20140401T030000/pick_plots/PB01_P_mc_03.png\n",
      "tpred = 3.310\n",
      "terr(1 x pb_std) = (-0.010, +0.010)\n",
      "pick_class = 0\n",
      "pb, pb_std = (0.546, 0.182)\n",
      "#\n",
      "P pick: 4/10\n"
     ]
    },
    {
     "name": "stderr",
     "output_type": "stream",
     "text": [
      "100%|██████████| 10/10 [00:01<00:00,  6.46it/s]\n"
     ]
    },
    {
     "name": "stdout",
     "output_type": "stream",
     "text": [
      "3.36 3.33 3.31 3.35 out_CX_20140401/20140401T020000_20140401T030000 PB01\n",
      "plotting predicted phase P: out_CX_20140401/20140401T020000_20140401T030000/pick_plots/PB01_P_04.png\n",
      "plotting predicted phase P: out_CX_20140401/20140401T020000_20140401T030000/pick_plots/PB01_P_mc_04.png\n",
      "tpred = 3.330\n",
      "terr(1 x pb_std) = (-0.020, +0.020)\n",
      "pick_class = 0\n",
      "pb, pb_std = (0.512, 0.132)\n",
      "#\n",
      "P pick: 5/10\n"
     ]
    },
    {
     "name": "stderr",
     "output_type": "stream",
     "text": [
      "100%|██████████| 10/10 [00:02<00:00,  4.94it/s]\n"
     ]
    },
    {
     "name": "stdout",
     "output_type": "stream",
     "text": [
      "3.36 3.25 3.09 3.52 out_CX_20140401/20140401T020000_20140401T030000 PB01\n",
      "plotting predicted phase P: out_CX_20140401/20140401T020000_20140401T030000/pick_plots/PB01_P_05.png\n",
      "plotting predicted phase P: out_CX_20140401/20140401T020000_20140401T030000/pick_plots/PB01_P_mc_05.png\n",
      "tpred = 3.250\n",
      "terr(1 x pb_std) = (-0.160, +0.270)\n",
      "pick_class = 3\n",
      "pb, pb_std = (0.507, 0.318)\n",
      "#\n",
      "P pick: 6/10\n"
     ]
    },
    {
     "name": "stderr",
     "output_type": "stream",
     "text": [
      "100%|██████████| 10/10 [00:02<00:00,  4.56it/s]\n"
     ]
    },
    {
     "name": "stdout",
     "output_type": "stream",
     "text": [
      "3.36 3.36 3.35 3.37 out_CX_20140401/20140401T020000_20140401T030000 PB01\n",
      "plotting predicted phase P: out_CX_20140401/20140401T020000_20140401T030000/pick_plots/PB01_P_06.png\n",
      "plotting predicted phase P: out_CX_20140401/20140401T020000_20140401T030000/pick_plots/PB01_P_mc_06.png\n",
      "tpred = 3.360\n",
      "terr(1 x pb_std) = (-0.010, +0.010)\n",
      "pick_class = 0\n",
      "pb, pb_std = (0.537, 0.097)\n",
      "#\n",
      "P pick: 7/10\n"
     ]
    },
    {
     "name": "stderr",
     "output_type": "stream",
     "text": [
      "100%|██████████| 10/10 [00:02<00:00,  4.14it/s]\n"
     ]
    },
    {
     "name": "stdout",
     "output_type": "stream",
     "text": [
      "3.36 3.5 3.49 3.5 out_CX_20140401/20140401T020000_20140401T030000 PB01\n",
      "plotting predicted phase P: out_CX_20140401/20140401T020000_20140401T030000/pick_plots/PB01_P_07.png\n",
      "plotting predicted phase P: out_CX_20140401/20140401T020000_20140401T030000/pick_plots/PB01_P_mc_07.png\n",
      "tpred = 3.500\n",
      "terr(1 x pb_std) = (-0.010, +0.000)\n",
      "pick_class = 0\n",
      "pb, pb_std = (0.560, 0.124)\n",
      "#\n",
      "P pick: 8/10\n"
     ]
    },
    {
     "name": "stderr",
     "output_type": "stream",
     "text": [
      "100%|██████████| 10/10 [00:01<00:00,  5.13it/s]\n"
     ]
    },
    {
     "name": "stdout",
     "output_type": "stream",
     "text": [
      "3.36 3.26 3.23 3.27 out_CX_20140401/20140401T020000_20140401T030000 PB01\n",
      "plotting predicted phase P: out_CX_20140401/20140401T020000_20140401T030000/pick_plots/PB01_P_08.png\n",
      "plotting predicted phase P: out_CX_20140401/20140401T020000_20140401T030000/pick_plots/PB01_P_mc_08.png\n",
      "tpred = 3.260\n",
      "terr(1 x pb_std) = (-0.030, +0.010)\n",
      "pick_class = 0\n",
      "pb, pb_std = (0.512, 0.164)\n",
      "#\n",
      "P pick: 9/10\n"
     ]
    },
    {
     "name": "stderr",
     "output_type": "stream",
     "text": [
      "100%|██████████| 10/10 [00:01<00:00,  5.06it/s]\n"
     ]
    },
    {
     "name": "stdout",
     "output_type": "stream",
     "text": [
      "3.36 3.54 3.5 3.59 out_CX_20140401/20140401T020000_20140401T030000 PB01\n",
      "plotting predicted phase P: out_CX_20140401/20140401T020000_20140401T030000/pick_plots/PB01_P_09.png\n",
      "plotting predicted phase P: out_CX_20140401/20140401T020000_20140401T030000/pick_plots/PB01_P_mc_09.png\n",
      "tpred = 3.540\n",
      "terr(1 x pb_std) = (-0.040, +0.050)\n",
      "pick_class = 0\n",
      "pb, pb_std = (0.515, 0.170)\n",
      "#\n",
      "P pick: 10/10\n"
     ]
    },
    {
     "name": "stderr",
     "output_type": "stream",
     "text": [
      "100%|██████████| 10/10 [00:02<00:00,  4.34it/s]\n"
     ]
    },
    {
     "name": "stdout",
     "output_type": "stream",
     "text": [
      "3.36 3.07 3.03 3.21 out_CX_20140401/20140401T020000_20140401T030000 PB01\n",
      "plotting predicted phase P: out_CX_20140401/20140401T020000_20140401T030000/pick_plots/PB01_P_10.png\n",
      "plotting predicted phase P: out_CX_20140401/20140401T020000_20140401T030000/pick_plots/PB01_P_mc_10.png\n",
      "tpred = 3.070\n",
      "terr(1 x pb_std) = (-0.040, +0.140)\n",
      "pick_class = 1\n",
      "pb, pb_std = (0.530, 0.293)\n",
      "#\n",
      "S pick: 1/6\n"
     ]
    },
    {
     "name": "stderr",
     "output_type": "stream",
     "text": [
      "100%|██████████| 10/10 [00:03<00:00,  3.00it/s]\n"
     ]
    },
    {
     "name": "stdout",
     "output_type": "stream",
     "text": [
      "2.4 2.67 2.65 2.7 out_CX_20140401/20140401T020000_20140401T030000 PB01\n",
      "(480,) (480,)\n",
      "plotting predicted phase S: out_CX_20140401/20140401T020000_20140401T030000/pick_plots/PB01_S_E_01.png\n",
      "plotting predicted phase S: out_CX_20140401/20140401T020000_20140401T030000/pick_plots/PB01_S_N_01.png\n",
      "plotting predicted phase S: out_CX_20140401/20140401T020000_20140401T030000/pick_plots/PB01_S_E_mc_01.png\n",
      "plotting predicted phase S: out_CX_20140401/20140401T020000_20140401T030000/pick_plots/PB01_S_N_mc_01.png\n",
      "tpred = 2.670\n",
      "terr(1 x pb_std) = (-0.020, +0.030)\n",
      "pick_class = 0\n",
      "pb, pb_std = (0.522, 0.072)\n",
      "#\n",
      "S pick: 2/6\n"
     ]
    },
    {
     "name": "stderr",
     "output_type": "stream",
     "text": [
      "100%|██████████| 10/10 [00:01<00:00,  6.96it/s]\n"
     ]
    },
    {
     "name": "stdout",
     "output_type": "stream",
     "text": [
      "2.4 2.42 2.4 2.44 out_CX_20140401/20140401T020000_20140401T030000 PB01\n",
      "(480,) (480,)\n",
      "plotting predicted phase S: out_CX_20140401/20140401T020000_20140401T030000/pick_plots/PB01_S_E_02.png\n",
      "plotting predicted phase S: out_CX_20140401/20140401T020000_20140401T030000/pick_plots/PB01_S_N_02.png\n",
      "plotting predicted phase S: out_CX_20140401/20140401T020000_20140401T030000/pick_plots/PB01_S_E_mc_02.png\n",
      "plotting predicted phase S: out_CX_20140401/20140401T020000_20140401T030000/pick_plots/PB01_S_N_mc_02.png\n",
      "tpred = 2.420\n",
      "terr(1 x pb_std) = (-0.020, +0.020)\n",
      "pick_class = 0\n",
      "pb, pb_std = (0.509, 0.078)\n",
      "#\n",
      "S pick: 3/6\n"
     ]
    },
    {
     "name": "stderr",
     "output_type": "stream",
     "text": [
      "100%|██████████| 10/10 [00:01<00:00,  7.14it/s]\n"
     ]
    },
    {
     "name": "stdout",
     "output_type": "stream",
     "text": [
      "2.4 2.36 2.27 2.55 out_CX_20140401/20140401T020000_20140401T030000 PB01\n",
      "(480,) (480,)\n",
      "plotting predicted phase S: out_CX_20140401/20140401T020000_20140401T030000/pick_plots/PB01_S_E_03.png\n",
      "plotting predicted phase S: out_CX_20140401/20140401T020000_20140401T030000/pick_plots/PB01_S_N_03.png\n",
      "plotting predicted phase S: out_CX_20140401/20140401T020000_20140401T030000/pick_plots/PB01_S_E_mc_03.png\n",
      "plotting predicted phase S: out_CX_20140401/20140401T020000_20140401T030000/pick_plots/PB01_S_N_mc_03.png\n",
      "tpred = 2.360\n",
      "terr(1 x pb_std) = (-0.090, +0.190)\n",
      "pick_class = 2\n",
      "pb, pb_std = (0.503, 0.132)\n",
      "#\n",
      "S pick: 4/6\n"
     ]
    },
    {
     "name": "stderr",
     "output_type": "stream",
     "text": [
      "100%|██████████| 10/10 [00:01<00:00,  7.46it/s]\n"
     ]
    },
    {
     "name": "stdout",
     "output_type": "stream",
     "text": [
      "2.4 2.44 2.27 2.51 out_CX_20140401/20140401T020000_20140401T030000 PB01\n",
      "(480,) (480,)\n",
      "plotting predicted phase S: out_CX_20140401/20140401T020000_20140401T030000/pick_plots/PB01_S_E_04.png\n",
      "plotting predicted phase S: out_CX_20140401/20140401T020000_20140401T030000/pick_plots/PB01_S_N_04.png\n",
      "plotting predicted phase S: out_CX_20140401/20140401T020000_20140401T030000/pick_plots/PB01_S_E_mc_04.png\n",
      "plotting predicted phase S: out_CX_20140401/20140401T020000_20140401T030000/pick_plots/PB01_S_N_mc_04.png\n",
      "tpred = 2.440\n",
      "terr(1 x pb_std) = (-0.170, +0.070)\n",
      "pick_class = 2\n",
      "pb, pb_std = (0.512, 0.171)\n",
      "#\n",
      "S pick: 5/6\n"
     ]
    },
    {
     "name": "stderr",
     "output_type": "stream",
     "text": [
      "100%|██████████| 10/10 [00:01<00:00,  8.04it/s]\n"
     ]
    },
    {
     "name": "stdout",
     "output_type": "stream",
     "text": [
      "2.4 2.4 2.29 2.5 out_CX_20140401/20140401T020000_20140401T030000 PB01\n",
      "(480,) (480,)\n",
      "plotting predicted phase S: out_CX_20140401/20140401T020000_20140401T030000/pick_plots/PB01_S_E_05.png\n",
      "plotting predicted phase S: out_CX_20140401/20140401T020000_20140401T030000/pick_plots/PB01_S_N_05.png\n",
      "plotting predicted phase S: out_CX_20140401/20140401T020000_20140401T030000/pick_plots/PB01_S_E_mc_05.png\n",
      "plotting predicted phase S: out_CX_20140401/20140401T020000_20140401T030000/pick_plots/PB01_S_N_mc_05.png\n",
      "tpred = 2.400\n",
      "terr(1 x pb_std) = (-0.110, +0.100)\n",
      "pick_class = 2\n",
      "pb, pb_std = (0.505, 0.101)\n",
      "#\n",
      "S pick: 6/6\n"
     ]
    },
    {
     "name": "stderr",
     "output_type": "stream",
     "text": [
      "100%|██████████| 10/10 [00:01<00:00,  7.39it/s]\n"
     ]
    },
    {
     "name": "stdout",
     "output_type": "stream",
     "text": [
      "2.4 2.48 2.39 2.65 out_CX_20140401/20140401T020000_20140401T030000 PB01\n",
      "(480,) (480,)\n",
      "plotting predicted phase S: out_CX_20140401/20140401T020000_20140401T030000/pick_plots/PB01_S_E_06.png\n",
      "plotting predicted phase S: out_CX_20140401/20140401T020000_20140401T030000/pick_plots/PB01_S_N_06.png\n",
      "plotting predicted phase S: out_CX_20140401/20140401T020000_20140401T030000/pick_plots/PB01_S_E_mc_06.png\n",
      "plotting predicted phase S: out_CX_20140401/20140401T020000_20140401T030000/pick_plots/PB01_S_N_mc_06.png\n",
      "tpred = 2.480\n",
      "terr(1 x pb_std) = (-0.090, +0.170)\n",
      "pick_class = 2\n",
      "pb, pb_std = (0.506, 0.248)\n",
      "#\n",
      "1, 2014-04-01T02:00:00.000000Z, 2014-04-01T03:00:00.000000Z, PB02\n",
      "triggered picks (P, S): 10, 4\n",
      "selected picks (P, S): 10, 3\n",
      "#\n",
      "P pick: 1/10\n"
     ]
    },
    {
     "name": "stderr",
     "output_type": "stream",
     "text": [
      "100%|██████████| 10/10 [00:01<00:00,  5.90it/s]\n"
     ]
    },
    {
     "name": "stdout",
     "output_type": "stream",
     "text": [
      "3.36 3.21 3.2 3.22 out_CX_20140401/20140401T020000_20140401T030000 PB02\n",
      "plotting predicted phase P: out_CX_20140401/20140401T020000_20140401T030000/pick_plots/PB02_P_01.png\n",
      "plotting predicted phase P: out_CX_20140401/20140401T020000_20140401T030000/pick_plots/PB02_P_mc_01.png\n",
      "tpred = 3.210\n",
      "terr(1 x pb_std) = (-0.010, +0.010)\n",
      "pick_class = 0\n",
      "pb, pb_std = (0.580, 0.125)\n",
      "#\n",
      "P pick: 2/10\n"
     ]
    },
    {
     "name": "stderr",
     "output_type": "stream",
     "text": [
      "100%|██████████| 10/10 [00:01<00:00,  6.49it/s]\n"
     ]
    },
    {
     "name": "stdout",
     "output_type": "stream",
     "text": [
      "3.36 3.37 3.36 3.38 out_CX_20140401/20140401T020000_20140401T030000 PB02\n",
      "plotting predicted phase P: out_CX_20140401/20140401T020000_20140401T030000/pick_plots/PB02_P_02.png\n",
      "plotting predicted phase P: out_CX_20140401/20140401T020000_20140401T030000/pick_plots/PB02_P_mc_02.png\n",
      "tpred = 3.370\n",
      "terr(1 x pb_std) = (-0.010, +0.010)\n",
      "pick_class = 0\n",
      "pb, pb_std = (0.574, 0.156)\n",
      "#\n",
      "P pick: 3/10\n"
     ]
    },
    {
     "name": "stderr",
     "output_type": "stream",
     "text": [
      "100%|██████████| 10/10 [00:02<00:00,  3.62it/s]\n"
     ]
    },
    {
     "name": "stdout",
     "output_type": "stream",
     "text": [
      "3.36 3.29 3.24 3.37 out_CX_20140401/20140401T020000_20140401T030000 PB02\n",
      "plotting predicted phase P: out_CX_20140401/20140401T020000_20140401T030000/pick_plots/PB02_P_03.png\n",
      "plotting predicted phase P: out_CX_20140401/20140401T020000_20140401T030000/pick_plots/PB02_P_mc_03.png\n",
      "tpred = 3.290\n",
      "terr(1 x pb_std) = (-0.050, +0.080)\n",
      "pick_class = 1\n",
      "pb, pb_std = (0.503, 0.209)\n",
      "#\n",
      "P pick: 4/10\n"
     ]
    },
    {
     "name": "stderr",
     "output_type": "stream",
     "text": [
      "100%|██████████| 10/10 [00:01<00:00,  5.29it/s]\n"
     ]
    },
    {
     "name": "stdout",
     "output_type": "stream",
     "text": [
      "3.36 3.13 3.13 3.14 out_CX_20140401/20140401T020000_20140401T030000 PB02\n",
      "plotting predicted phase P: out_CX_20140401/20140401T020000_20140401T030000/pick_plots/PB02_P_04.png\n",
      "plotting predicted phase P: out_CX_20140401/20140401T020000_20140401T030000/pick_plots/PB02_P_mc_04.png\n",
      "tpred = 3.130\n",
      "terr(1 x pb_std) = (-0.000, +0.010)\n",
      "pick_class = 0\n",
      "pb, pb_std = (0.601, 0.132)\n",
      "#\n",
      "P pick: 5/10\n"
     ]
    },
    {
     "name": "stderr",
     "output_type": "stream",
     "text": [
      "100%|██████████| 10/10 [00:01<00:00,  5.20it/s]\n"
     ]
    },
    {
     "name": "stdout",
     "output_type": "stream",
     "text": [
      "3.36 3.4 3.34 3.42 out_CX_20140401/20140401T020000_20140401T030000 PB02\n",
      "plotting predicted phase P: out_CX_20140401/20140401T020000_20140401T030000/pick_plots/PB02_P_05.png\n",
      "plotting predicted phase P: out_CX_20140401/20140401T020000_20140401T030000/pick_plots/PB02_P_mc_05.png\n",
      "tpred = 3.400\n",
      "terr(1 x pb_std) = (-0.060, +0.020)\n",
      "pick_class = 0\n",
      "pb, pb_std = (0.542, 0.147)\n",
      "#\n",
      "P pick: 6/10\n"
     ]
    },
    {
     "name": "stderr",
     "output_type": "stream",
     "text": [
      "100%|██████████| 10/10 [00:01<00:00,  5.85it/s]\n"
     ]
    },
    {
     "name": "stdout",
     "output_type": "stream",
     "text": [
      "3.36 3.25 3.16 3.4 out_CX_20140401/20140401T020000_20140401T030000 PB02\n",
      "plotting predicted phase P: out_CX_20140401/20140401T020000_20140401T030000/pick_plots/PB02_P_06.png\n",
      "plotting predicted phase P: out_CX_20140401/20140401T020000_20140401T030000/pick_plots/PB02_P_mc_06.png\n",
      "tpred = 3.250\n",
      "terr(1 x pb_std) = (-0.090, +0.150)\n",
      "pick_class = 2\n",
      "pb, pb_std = (0.504, 0.311)\n",
      "#\n",
      "P pick: 7/10\n"
     ]
    },
    {
     "name": "stderr",
     "output_type": "stream",
     "text": [
      "100%|██████████| 10/10 [00:01<00:00,  6.52it/s]\n"
     ]
    },
    {
     "name": "stdout",
     "output_type": "stream",
     "text": [
      "3.36 3.28 3.27 3.3 out_CX_20140401/20140401T020000_20140401T030000 PB02\n",
      "plotting predicted phase P: out_CX_20140401/20140401T020000_20140401T030000/pick_plots/PB02_P_07.png\n",
      "plotting predicted phase P: out_CX_20140401/20140401T020000_20140401T030000/pick_plots/PB02_P_mc_07.png\n",
      "tpred = 3.280\n",
      "terr(1 x pb_std) = (-0.010, +0.020)\n",
      "pick_class = 0\n",
      "pb, pb_std = (0.564, 0.156)\n",
      "#\n",
      "P pick: 8/10\n"
     ]
    },
    {
     "name": "stderr",
     "output_type": "stream",
     "text": [
      "100%|██████████| 10/10 [00:01<00:00,  6.17it/s]\n"
     ]
    },
    {
     "name": "stdout",
     "output_type": "stream",
     "text": [
      "3.36 3.53 3.52 3.54 out_CX_20140401/20140401T020000_20140401T030000 PB02\n",
      "plotting predicted phase P: out_CX_20140401/20140401T020000_20140401T030000/pick_plots/PB02_P_08.png\n",
      "plotting predicted phase P: out_CX_20140401/20140401T020000_20140401T030000/pick_plots/PB02_P_mc_08.png\n",
      "tpred = 3.530\n",
      "terr(1 x pb_std) = (-0.010, +0.010)\n",
      "pick_class = 0\n",
      "pb, pb_std = (0.521, 0.131)\n",
      "#\n",
      "P pick: 9/10\n"
     ]
    },
    {
     "name": "stderr",
     "output_type": "stream",
     "text": [
      "100%|██████████| 10/10 [00:01<00:00,  6.31it/s]\n"
     ]
    },
    {
     "name": "stdout",
     "output_type": "stream",
     "text": [
      "3.36 3.37 3.35 3.38 out_CX_20140401/20140401T020000_20140401T030000 PB02\n",
      "plotting predicted phase P: out_CX_20140401/20140401T020000_20140401T030000/pick_plots/PB02_P_09.png\n",
      "plotting predicted phase P: out_CX_20140401/20140401T020000_20140401T030000/pick_plots/PB02_P_mc_09.png\n",
      "tpred = 3.370\n",
      "terr(1 x pb_std) = (-0.020, +0.010)\n",
      "pick_class = 0\n",
      "pb, pb_std = (0.518, 0.194)\n",
      "#\n",
      "P pick: 10/10\n"
     ]
    },
    {
     "name": "stderr",
     "output_type": "stream",
     "text": [
      "100%|██████████| 10/10 [00:02<00:00,  4.44it/s]\n"
     ]
    },
    {
     "name": "stdout",
     "output_type": "stream",
     "text": [
      "3.36 3.66 3.62 3.73 out_CX_20140401/20140401T020000_20140401T030000 PB02\n",
      "plotting predicted phase P: out_CX_20140401/20140401T020000_20140401T030000/pick_plots/PB02_P_10.png\n",
      "plotting predicted phase P: out_CX_20140401/20140401T020000_20140401T030000/pick_plots/PB02_P_mc_10.png\n",
      "tpred = 3.660\n",
      "terr(1 x pb_std) = (-0.040, +0.070)\n",
      "pick_class = 1\n",
      "pb, pb_std = (0.517, 0.158)\n",
      "#\n",
      "S pick: 1/3\n"
     ]
    },
    {
     "name": "stderr",
     "output_type": "stream",
     "text": [
      "100%|██████████| 10/10 [00:01<00:00,  6.24it/s]\n"
     ]
    },
    {
     "name": "stdout",
     "output_type": "stream",
     "text": [
      "2.4 2.19 2.18 2.2 out_CX_20140401/20140401T020000_20140401T030000 PB02\n",
      "(480,) (480,)\n",
      "plotting predicted phase S: out_CX_20140401/20140401T020000_20140401T030000/pick_plots/PB02_S_E_01.png\n",
      "plotting predicted phase S: out_CX_20140401/20140401T020000_20140401T030000/pick_plots/PB02_S_N_01.png\n",
      "plotting predicted phase S: out_CX_20140401/20140401T020000_20140401T030000/pick_plots/PB02_S_E_mc_01.png\n",
      "plotting predicted phase S: out_CX_20140401/20140401T020000_20140401T030000/pick_plots/PB02_S_N_mc_01.png\n",
      "tpred = 2.190\n",
      "terr(1 x pb_std) = (-0.010, +0.010)\n",
      "pick_class = 0\n",
      "pb, pb_std = (0.504, 0.071)\n",
      "#\n",
      "S pick: 2/3\n"
     ]
    },
    {
     "name": "stderr",
     "output_type": "stream",
     "text": [
      "100%|██████████| 10/10 [00:01<00:00,  7.11it/s]\n"
     ]
    },
    {
     "name": "stdout",
     "output_type": "stream",
     "text": [
      "2.4 2.21 2.18 2.26 out_CX_20140401/20140401T020000_20140401T030000 PB02\n",
      "(480,) (480,)\n",
      "plotting predicted phase S: out_CX_20140401/20140401T020000_20140401T030000/pick_plots/PB02_S_E_02.png\n",
      "plotting predicted phase S: out_CX_20140401/20140401T020000_20140401T030000/pick_plots/PB02_S_N_02.png\n",
      "plotting predicted phase S: out_CX_20140401/20140401T020000_20140401T030000/pick_plots/PB02_S_E_mc_02.png\n",
      "plotting predicted phase S: out_CX_20140401/20140401T020000_20140401T030000/pick_plots/PB02_S_N_mc_02.png\n",
      "tpred = 2.210\n",
      "terr(1 x pb_std) = (-0.030, +0.050)\n",
      "pick_class = 0\n",
      "pb, pb_std = (0.511, 0.144)\n",
      "#\n",
      "S pick: 3/3\n"
     ]
    },
    {
     "name": "stderr",
     "output_type": "stream",
     "text": [
      "100%|██████████| 10/10 [00:01<00:00,  8.20it/s]\n"
     ]
    },
    {
     "name": "stdout",
     "output_type": "stream",
     "text": [
      "2.4 2.47 2.45 2.49 out_CX_20140401/20140401T020000_20140401T030000 PB02\n",
      "(480,) (480,)\n",
      "plotting predicted phase S: out_CX_20140401/20140401T020000_20140401T030000/pick_plots/PB02_S_E_03.png\n",
      "plotting predicted phase S: out_CX_20140401/20140401T020000_20140401T030000/pick_plots/PB02_S_N_03.png\n",
      "plotting predicted phase S: out_CX_20140401/20140401T020000_20140401T030000/pick_plots/PB02_S_E_mc_03.png\n",
      "plotting predicted phase S: out_CX_20140401/20140401T020000_20140401T030000/pick_plots/PB02_S_N_mc_03.png\n",
      "tpred = 2.470\n",
      "terr(1 x pb_std) = (-0.020, +0.020)\n",
      "pick_class = 0\n",
      "pb, pb_std = (0.505, 0.135)\n"
     ]
    }
   ],
   "source": [
    "# run phase picking\n",
    "dpp_model.run_picking(dpp_config, dpp_data, save_plots=True, save_stats=True, save_picks=False)"
   ]
  },
  {
   "cell_type": "markdown",
   "metadata": {},
   "source": [
    "## 4. Plot predicted phases"
   ]
  },
  {
   "cell_type": "code",
   "execution_count": 8,
   "metadata": {},
   "outputs": [
    {
     "name": "stdout",
     "output_type": "stream",
     "text": [
      "creating plots...\n",
      "1 PB01 Z 2014-04-01T01:59:59.998393Z 2014-04-01T02:59:59.998393Z\n",
      "1 PB01 E 2014-04-01T01:59:59.998394Z 2014-04-01T02:59:59.998394Z\n",
      "1 PB02 Z 2014-04-01T01:59:59.998393Z 2014-04-01T02:59:59.998393Z\n",
      "1 PB02 E 2014-04-01T01:59:59.998393Z 2014-04-01T02:59:59.998393Z\n"
     ]
    }
   ],
   "source": [
    "# plots\n",
    "util.plot_predicted_phases(dpp_config, dpp_data, dpp_model)\n",
    "# util.plot_predicted_phases(dpp_config, dpp_data, dpp_model, plot_probs=['P','S'], shift_probs=True)"
   ]
  }
 ],
 "metadata": {
  "jupytext": {
   "text_representation": {
    "extension": ".py",
    "format_name": "light",
    "format_version": "1.4",
    "jupytext_version": "1.2.4"
   }
  },
  "kernelspec": {
   "display_name": "Python 3",
   "language": "python",
   "name": "python3"
  },
  "language_info": {
   "codemirror_mode": {
    "name": "ipython",
    "version": 3
   },
   "file_extension": ".py",
   "mimetype": "text/x-python",
   "name": "python",
   "nbconvert_exporter": "python",
   "pygments_lexer": "ipython3",
   "version": "3.6.13"
  }
 },
 "nbformat": 4,
 "nbformat_minor": 2
}
