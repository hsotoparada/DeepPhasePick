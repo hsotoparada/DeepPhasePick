{
 "cells": [
  {
   "cell_type": "code",
   "execution_count": 1,
   "metadata": {},
   "outputs": [],
   "source": [
    "# import os, sys, gc, subprocess  \n",
    "import os\n",
    "os.chdir('../')\n",
    "# print(sys.path)\n",
    "# print(subprocess.check_output('pwd',shell=True, universal_newlines=True))"
   ]
  },
  {
   "cell_type": "code",
   "execution_count": 2,
   "metadata": {},
   "outputs": [],
   "source": [
    "# import load_path\n",
    "import config, data, model, util                                                \n",
    "from datetime import datetime                                                   \n",
    "from obspy.clients.fdsn import Client                                           \n",
    "import obspy.core as oc                                                         "
   ]
  },
  {
   "cell_type": "markdown",
   "metadata": {},
   "source": [
    "## 1. Configure DPP"
   ]
  },
  {
   "cell_type": "code",
   "execution_count": 3,
   "metadata": {
    "scrolled": true
   },
   "outputs": [
    {
     "name": "stdout",
     "output_type": "stream",
     "text": [
      "__pycache__/ removed\n",
      "~/.nv/ not found, continuing...\n"
     ]
    }
   ],
   "source": [
    "# config\n",
    "#\n",
    "util.init_session()\n",
    "dpp_config = config.Config()\n",
    "dpp_config.set_trigger(pthres_p=[0.9, 0.001], pthres_s=[0.9, 0.001])\n",
    "# dpp_config.set_picking(op_conds=['1','2','3','4'], tp_th_add=1.5, dt_sp_near=1.5, dt_ps_max=25., dt_sdup_max=2., mcd_iter=10, run_mcd=True)\n",
    "dpp_config.set_picking(op_conds=['1','2','3','4'], tp_th_add=1.5, dt_sp_near=1.5, dt_ps_max=25., dt_sdup_max=2., mcd_iter=10, run_mcd=False)\n",
    "# dpp_config.set_picking(op_conds=[], tp_th_add=1.5, dt_sp_near=1.5, dt_ps_max=25., dt_sdup_max=2., mcd_iter=10, run_mcd=False)\n",
    "dpp_config.set_data(\n",
    "    stas=['PB01', 'PB02'],\n",
    "    net='CX',\n",
    "    ch='HH',\n",
    "    archive='sample_data/CX_20140301',\n",
    "    opath='out_CX_20140301'\n",
    ")\n",
    "dpp_config.set_time(\n",
    "    dt_iter=3600.,\n",
    "    tstart = \"2014-03-01T02:00:00\",\n",
    "    tend = \"2014-03-01T03:00:00\",        \n",
    ")"
   ]
  },
  {
   "cell_type": "markdown",
   "metadata": {},
   "source": [
    "## 2. Read seismic data into DPP"
   ]
  },
  {
   "cell_type": "code",
   "execution_count": 4,
   "metadata": {
    "scrolled": false
   },
   "outputs": [
    {
     "name": "stdout",
     "output_type": "stream",
     "text": [
      "reading seismic waveform: sample_data/CX_20140301/CX.PB01..HH.mseed\n",
      "reading seismic waveform: sample_data/CX_20140301/CX.PB02..HH.mseed\n",
      "6 Trace(s) in Stream:\n",
      "CX.PB01..HHZ | 2014-03-01T01:59:59.998393Z - 2014-03-01T02:59:59.998393Z | 100.0 Hz, 360001 samples\n",
      "CX.PB01..HHE | 2014-03-01T01:59:59.998393Z - 2014-03-01T02:59:59.998393Z | 100.0 Hz, 360001 samples\n",
      "CX.PB01..HHN | 2014-03-01T01:59:59.998393Z - 2014-03-01T02:59:59.998393Z | 100.0 Hz, 360001 samples\n",
      "CX.PB02..HHZ | 2014-03-01T01:59:59.998391Z - 2014-03-01T02:59:59.998391Z | 100.0 Hz, 360001 samples\n",
      "CX.PB02..HHE | 2014-03-01T01:59:59.998393Z - 2014-03-01T02:59:59.998393Z | 100.0 Hz, 360001 samples\n",
      "CX.PB02..HHN | 2014-03-01T01:59:59.998393Z - 2014-03-01T02:59:59.998393Z | 100.0 Hz, 360001 samples\n",
      "#\n",
      "processing raw stream data...\n",
      "detrend...\n",
      "resampling...\n",
      "merging...\n",
      "#\n",
      "time windows (1) for iteration over continuous waveforms:\n",
      "[UTCDateTime(2014, 3, 1, 2, 0), UTCDateTime(2014, 3, 1, 3, 0)]\n",
      "\n",
      "slicing...\n"
     ]
    }
   ],
   "source": [
    "# data\n",
    "#\n",
    "dpp_data = data.Data()\n",
    "dpp_data.read_from_directory(dpp_config)\n",
    "#\n",
    "# for k in dpp_data.data:\n",
    "#     print(k, dpp_data.data[k])"
   ]
  },
  {
   "cell_type": "markdown",
   "metadata": {},
   "source": [
    "## 3. Run phase detection and picking"
   ]
  },
  {
   "cell_type": "code",
   "execution_count": 5,
   "metadata": {
    "scrolled": true
   },
   "outputs": [
    {
     "name": "stdout",
     "output_type": "stream",
     "text": [
      "Model: \"sequential_1\"\n",
      "_________________________________________________________________\n",
      "Layer (type)                 Output Shape              Param #   \n",
      "=================================================================\n",
      "separable_conv1d_1 (Separabl (None, 480, 12)           99        \n",
      "_________________________________________________________________\n",
      "activation_1 (Activation)    (None, 480, 12)           0         \n",
      "_________________________________________________________________\n",
      "batch_normalization_1 (Batch (None, 480, 12)           48        \n",
      "_________________________________________________________________\n",
      "max_pooling1d_1 (MaxPooling1 (None, 240, 12)           0         \n",
      "_________________________________________________________________\n",
      "dropout_1 (Dropout)          (None, 240, 12)           0         \n",
      "_________________________________________________________________\n",
      "separable_conv1d_2 (Separabl (None, 240, 24)           444       \n",
      "_________________________________________________________________\n",
      "activation_2 (Activation)    (None, 240, 24)           0         \n",
      "_________________________________________________________________\n",
      "batch_normalization_2 (Batch (None, 240, 24)           96        \n",
      "_________________________________________________________________\n",
      "max_pooling1d_2 (MaxPooling1 (None, 120, 24)           0         \n",
      "_________________________________________________________________\n",
      "dropout_2 (Dropout)          (None, 120, 24)           0         \n",
      "_________________________________________________________________\n",
      "separable_conv1d_3 (Separabl (None, 120, 48)           1320      \n",
      "_________________________________________________________________\n",
      "activation_3 (Activation)    (None, 120, 48)           0         \n",
      "_________________________________________________________________\n",
      "batch_normalization_3 (Batch (None, 120, 48)           192       \n",
      "_________________________________________________________________\n",
      "max_pooling1d_3 (MaxPooling1 (None, 60, 48)            0         \n",
      "_________________________________________________________________\n",
      "dropout_3 (Dropout)          (None, 60, 48)            0         \n",
      "_________________________________________________________________\n",
      "separable_conv1d_4 (Separabl (None, 60, 96)            5136      \n",
      "_________________________________________________________________\n",
      "activation_4 (Activation)    (None, 60, 96)            0         \n",
      "_________________________________________________________________\n",
      "batch_normalization_4 (Batch (None, 60, 96)            384       \n",
      "_________________________________________________________________\n",
      "max_pooling1d_4 (MaxPooling1 (None, 30, 96)            0         \n",
      "_________________________________________________________________\n",
      "dropout_4 (Dropout)          (None, 30, 96)            0         \n",
      "_________________________________________________________________\n",
      "separable_conv1d_5 (Separabl (None, 30, 192)           20256     \n",
      "_________________________________________________________________\n",
      "activation_5 (Activation)    (None, 30, 192)           0         \n",
      "_________________________________________________________________\n",
      "batch_normalization_5 (Batch (None, 30, 192)           768       \n",
      "_________________________________________________________________\n",
      "max_pooling1d_5 (MaxPooling1 (None, 15, 192)           0         \n",
      "_________________________________________________________________\n",
      "dropout_5 (Dropout)          (None, 15, 192)           0         \n",
      "_________________________________________________________________\n",
      "flatten (Flatten)            (None, 2880)              0         \n",
      "_________________________________________________________________\n",
      "dense_1 (Dense)              (None, 50)                144050    \n",
      "_________________________________________________________________\n",
      "activation_6 (Activation)    (None, 50)                0         \n",
      "_________________________________________________________________\n",
      "batch_normalization_6 (Batch (None, 50)                200       \n",
      "_________________________________________________________________\n",
      "dropout_6 (Dropout)          (None, 50)                0         \n",
      "_________________________________________________________________\n",
      "dense_2 (Dense)              (None, 3)                 153       \n",
      "_________________________________________________________________\n",
      "activation_7 (Activation)    (None, 3)                 0         \n",
      "=================================================================\n",
      "Total params: 173,146\n",
      "Trainable params: 172,302\n",
      "Non-trainable params: 844\n",
      "_________________________________________________________________\n",
      "None\n",
      "Model: \"model_1\"\n",
      "_________________________________________________________________\n",
      "Layer (type)                 Output Shape              Param #   \n",
      "=================================================================\n",
      "input_1 (InputLayer)         [(None, 480, 1)]          0         \n",
      "_________________________________________________________________\n",
      "bidirectional_1 (Bidirection (None, 480, 200)          81600     \n",
      "_________________________________________________________________\n",
      "bidirectional_2 (Bidirection (None, 480, 320)          462080    \n",
      "_________________________________________________________________\n",
      "time_distributed_1 (TimeDist (None, 480, 1)            321       \n",
      "=================================================================\n",
      "Total params: 544,001\n",
      "Trainable params: 544,001\n",
      "Non-trainable params: 0\n",
      "_________________________________________________________________\n",
      "None\n",
      "Model: \"model_1\"\n",
      "_________________________________________________________________\n",
      "Layer (type)                 Output Shape              Param #   \n",
      "=================================================================\n",
      "input_1 (InputLayer)         [(None, 480, 2)]          0         \n",
      "_________________________________________________________________\n",
      "bidirectional_1 (Bidirection (None, 480, 40)           3680      \n",
      "_________________________________________________________________\n",
      "bidirectional_2 (Bidirection (None, 480, 60)           17040     \n",
      "_________________________________________________________________\n",
      "time_distributed_1 (TimeDist (None, 480, 1)            61        \n",
      "=================================================================\n",
      "Total params: 20,781\n",
      "Trainable params: 20,781\n",
      "Non-trainable params: 0\n",
      "_________________________________________________________________\n",
      "None\n"
     ]
    }
   ],
   "source": [
    "# model\n",
    "#\n",
    "dpp_model = model.Model(verbose=False)\n",
    "#\n",
    "print(dpp_model.model_detection['best_model'].summary())\n",
    "print(dpp_model.model_picking_P['best_model'].summary())\n",
    "print(dpp_model.model_picking_S['best_model'].summary())"
   ]
  },
  {
   "cell_type": "code",
   "execution_count": 6,
   "metadata": {
    "scrolled": false
   },
   "outputs": [
    {
     "name": "stdout",
     "output_type": "stream",
     "text": [
      "#\n",
      "Calculating predictions for stream: CX.PB01..HH?...\n",
      "720/720 [==============================] - 29s 40ms/step\n",
      "3 Trace(s) in Stream:\n",
      "CX.PB01..HHE | 2014-03-01T01:59:59.998393Z - 2014-03-01T02:59:59.998393Z | 100.0 Hz, 360001 samples\n",
      "CX.PB01..HHN | 2014-03-01T01:59:59.998393Z - 2014-03-01T02:59:59.998393Z | 100.0 Hz, 360001 samples\n",
      "CX.PB01..HHZ | 2014-03-01T01:59:59.998393Z - 2014-03-01T02:59:59.998393Z | 100.0 Hz, 360001 samples\n",
      "p_picks = 15, s_picks = 12\n",
      "#\n",
      "Calculating predictions for stream: CX.PB02..HH?...\n",
      "strimming stream: 2, 2\n",
      "720/720 [==============================] - 29s 40ms/step\n",
      "3 Trace(s) in Stream:\n",
      "CX.PB02..HHE | 2014-03-01T01:59:59.998393Z - 2014-03-01T02:59:59.998393Z | 100.0 Hz, 360001 samples\n",
      "CX.PB02..HHN | 2014-03-01T01:59:59.998393Z - 2014-03-01T02:59:59.998393Z | 100.0 Hz, 360001 samples\n",
      "CX.PB02..HHZ | 2014-03-01T01:59:59.998391Z - 2014-03-01T02:59:59.998391Z | 100.0 Hz, 360001 samples\n",
      "p_picks = 10, s_picks = 8\n"
     ]
    }
   ],
   "source": [
    "# run phase detection\n",
    "dpp_model.run_detection(dpp_config, dpp_data, save_dets=False, save_data=False)"
   ]
  },
  {
   "cell_type": "code",
   "execution_count": 7,
   "metadata": {
    "scrolled": true
   },
   "outputs": [
    {
     "name": "stdout",
     "output_type": "stream",
     "text": [
      "#\n",
      "1, 2014-03-01T02:00:00.000000Z, 2014-03-01T03:00:00.000000Z, PB01\n",
      "triggered picks (P, S): 15, 12\n",
      "selected picks (P, S): 11, 6\n",
      "#\n",
      "1, 2014-03-01T02:00:00.000000Z, 2014-03-01T03:00:00.000000Z, PB02\n",
      "triggered picks (P, S): 10, 8\n",
      "selected picks (P, S): 9, 5\n"
     ]
    }
   ],
   "source": [
    "# run phase picking\n",
    "dpp_model.run_picking(dpp_config, dpp_data, save_plots=False, save_stats=True, save_picks=False)"
   ]
  },
  {
   "cell_type": "markdown",
   "metadata": {},
   "source": [
    "## 4. Plot predicted phases"
   ]
  },
  {
   "cell_type": "code",
   "execution_count": 8,
   "metadata": {},
   "outputs": [
    {
     "name": "stdout",
     "output_type": "stream",
     "text": [
      "creating plots...\n",
      "1 PB01 Z 2014-03-01T01:59:59.998393Z 2014-03-01T02:59:59.998393Z\n",
      "1 PB01 E 2014-03-01T01:59:59.998393Z 2014-03-01T02:59:59.998393Z\n",
      "1 PB02 Z 2014-03-01T01:59:59.998391Z 2014-03-01T02:59:59.998391Z\n",
      "1 PB02 E 2014-03-01T01:59:59.998393Z 2014-03-01T02:59:59.998393Z\n"
     ]
    }
   ],
   "source": [
    "# plots\n",
    "util.plot_predicted_phases(dpp_config, dpp_data, dpp_model)\n",
    "# util.plot_predicted_phases(dpp_config, dpp_data, dpp_model, plot_probs=['P','S'], shift_probs=True)"
   ]
  }
 ],
 "metadata": {
  "jupytext": {
   "text_representation": {
    "extension": ".py",
    "format_name": "light",
    "format_version": "1.4",
    "jupytext_version": "1.2.4"
   }
  },
  "kernelspec": {
   "display_name": "Python 3",
   "language": "python",
   "name": "python3"
  },
  "language_info": {
   "codemirror_mode": {
    "name": "ipython",
    "version": 3
   },
   "file_extension": ".py",
   "mimetype": "text/x-python",
   "name": "python",
   "nbconvert_exporter": "python",
   "pygments_lexer": "ipython3",
   "version": "3.6.13"
  }
 },
 "nbformat": 4,
 "nbformat_minor": 2
}
